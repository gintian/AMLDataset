{
  "cells": [
    {
      "cell_type": "markdown",
      "metadata": {
        "id": "view-in-github",
        "colab_type": "text"
      },
      "source": [
        "<a href=\"https://colab.research.google.com/github/niyaryca/AMLDataset/blob/main/AML_COURSEWORK2.ipynb\" target=\"_parent\"><img src=\"https://colab.research.google.com/assets/colab-badge.svg\" alt=\"Open In Colab\"/></a>"
      ]
    },
    {
      "cell_type": "code",
      "execution_count": 96,
      "metadata": {
        "colab": {
          "base_uri": "https://localhost:8080/"
        },
        "id": "MgKiXFymIUvz",
        "outputId": "8c92e8c4-5e6c-4f9d-e2a3-65a5639e24e1"
      },
      "outputs": [
        {
          "output_type": "stream",
          "name": "stdout",
          "text": [
            "Requirement already satisfied: neattext in /usr/local/lib/python3.7/dist-packages (0.1.3)\n"
          ]
        }
      ],
      "source": [
        "!pip install neattext"
      ]
    },
    {
      "cell_type": "code",
      "execution_count": 97,
      "metadata": {
        "colab": {
          "base_uri": "https://localhost:8080/"
        },
        "id": "Oc_VcQIvdE0y",
        "outputId": "cc7c3afa-26ef-45b6-a67f-8edc13aefd4a"
      },
      "outputs": [
        {
          "output_type": "stream",
          "name": "stdout",
          "text": [
            "Requirement already satisfied: scikit-learn in /usr/local/lib/python3.7/dist-packages (1.0.2)\n",
            "Requirement already satisfied: scipy>=1.1.0 in /usr/local/lib/python3.7/dist-packages (from scikit-learn) (1.4.1)\n",
            "Requirement already satisfied: joblib>=0.11 in /usr/local/lib/python3.7/dist-packages (from scikit-learn) (1.1.0)\n",
            "Requirement already satisfied: threadpoolctl>=2.0.0 in /usr/local/lib/python3.7/dist-packages (from scikit-learn) (3.1.0)\n",
            "Requirement already satisfied: numpy>=1.14.6 in /usr/local/lib/python3.7/dist-packages (from scikit-learn) (1.21.6)\n"
          ]
        }
      ],
      "source": [
        "!pip install -U scikit-learn"
      ]
    },
    {
      "cell_type": "code",
      "execution_count": 98,
      "metadata": {
        "colab": {
          "base_uri": "https://localhost:8080/"
        },
        "id": "Y7Cupzh7zBKQ",
        "outputId": "868950d1-aa47-4f87-8cc6-9da2f1c80928"
      },
      "outputs": [
        {
          "output_type": "stream",
          "name": "stdout",
          "text": [
            "Requirement already satisfied: simpletransformers in /usr/local/lib/python3.7/dist-packages (0.63.6)\n",
            "Requirement already satisfied: regex in /usr/local/lib/python3.7/dist-packages (from simpletransformers) (2019.12.20)\n",
            "Requirement already satisfied: transformers>=4.6.0 in /usr/local/lib/python3.7/dist-packages (from simpletransformers) (4.18.0)\n",
            "Requirement already satisfied: pandas in /usr/local/lib/python3.7/dist-packages (from simpletransformers) (1.3.5)\n",
            "Requirement already satisfied: streamlit in /usr/local/lib/python3.7/dist-packages (from simpletransformers) (1.8.1)\n",
            "Requirement already satisfied: scipy in /usr/local/lib/python3.7/dist-packages (from simpletransformers) (1.4.1)\n",
            "Requirement already satisfied: scikit-learn in /usr/local/lib/python3.7/dist-packages (from simpletransformers) (1.0.2)\n",
            "Requirement already satisfied: tokenizers in /usr/local/lib/python3.7/dist-packages (from simpletransformers) (0.12.1)\n",
            "Requirement already satisfied: datasets in /usr/local/lib/python3.7/dist-packages (from simpletransformers) (2.1.0)\n",
            "Requirement already satisfied: tqdm>=4.47.0 in /usr/local/lib/python3.7/dist-packages (from simpletransformers) (4.64.0)\n",
            "Requirement already satisfied: wandb>=0.10.32 in /usr/local/lib/python3.7/dist-packages (from simpletransformers) (0.12.15)\n",
            "Requirement already satisfied: sentencepiece in /usr/local/lib/python3.7/dist-packages (from simpletransformers) (0.1.96)\n",
            "Requirement already satisfied: tensorboard in /usr/local/lib/python3.7/dist-packages (from simpletransformers) (2.8.0)\n",
            "Requirement already satisfied: requests in /usr/local/lib/python3.7/dist-packages (from simpletransformers) (2.23.0)\n",
            "Requirement already satisfied: seqeval in /usr/local/lib/python3.7/dist-packages (from simpletransformers) (1.2.2)\n",
            "Requirement already satisfied: numpy in /usr/local/lib/python3.7/dist-packages (from simpletransformers) (1.21.6)\n",
            "Requirement already satisfied: huggingface-hub<1.0,>=0.1.0 in /usr/local/lib/python3.7/dist-packages (from transformers>=4.6.0->simpletransformers) (0.5.1)\n",
            "Requirement already satisfied: pyyaml>=5.1 in /usr/local/lib/python3.7/dist-packages (from transformers>=4.6.0->simpletransformers) (6.0)\n",
            "Requirement already satisfied: sacremoses in /usr/local/lib/python3.7/dist-packages (from transformers>=4.6.0->simpletransformers) (0.0.49)\n",
            "Requirement already satisfied: importlib-metadata in /usr/local/lib/python3.7/dist-packages (from transformers>=4.6.0->simpletransformers) (4.11.3)\n",
            "Requirement already satisfied: packaging>=20.0 in /usr/local/lib/python3.7/dist-packages (from transformers>=4.6.0->simpletransformers) (21.3)\n",
            "Requirement already satisfied: filelock in /usr/local/lib/python3.7/dist-packages (from transformers>=4.6.0->simpletransformers) (3.6.0)\n",
            "Requirement already satisfied: typing-extensions>=3.7.4.3 in /usr/local/lib/python3.7/dist-packages (from huggingface-hub<1.0,>=0.1.0->transformers>=4.6.0->simpletransformers) (4.2.0)\n",
            "Requirement already satisfied: pyparsing!=3.0.5,>=2.0.2 in /usr/local/lib/python3.7/dist-packages (from packaging>=20.0->transformers>=4.6.0->simpletransformers) (3.0.8)\n",
            "Requirement already satisfied: sentry-sdk>=1.0.0 in /usr/local/lib/python3.7/dist-packages (from wandb>=0.10.32->simpletransformers) (1.5.10)\n",
            "Requirement already satisfied: GitPython>=1.0.0 in /usr/local/lib/python3.7/dist-packages (from wandb>=0.10.32->simpletransformers) (3.1.27)\n",
            "Requirement already satisfied: psutil>=5.0.0 in /usr/local/lib/python3.7/dist-packages (from wandb>=0.10.32->simpletransformers) (5.4.8)\n",
            "Requirement already satisfied: protobuf>=3.12.0 in /usr/local/lib/python3.7/dist-packages (from wandb>=0.10.32->simpletransformers) (3.17.3)\n",
            "Requirement already satisfied: six>=1.13.0 in /usr/local/lib/python3.7/dist-packages (from wandb>=0.10.32->simpletransformers) (1.15.0)\n",
            "Requirement already satisfied: promise<3,>=2.0 in /usr/local/lib/python3.7/dist-packages (from wandb>=0.10.32->simpletransformers) (2.3)\n",
            "Requirement already satisfied: docker-pycreds>=0.4.0 in /usr/local/lib/python3.7/dist-packages (from wandb>=0.10.32->simpletransformers) (0.4.0)\n",
            "Requirement already satisfied: Click!=8.0.0,>=7.0 in /usr/local/lib/python3.7/dist-packages (from wandb>=0.10.32->simpletransformers) (7.1.2)\n",
            "Requirement already satisfied: python-dateutil>=2.6.1 in /usr/local/lib/python3.7/dist-packages (from wandb>=0.10.32->simpletransformers) (2.8.2)\n",
            "Requirement already satisfied: setproctitle in /usr/local/lib/python3.7/dist-packages (from wandb>=0.10.32->simpletransformers) (1.2.3)\n",
            "Requirement already satisfied: pathtools in /usr/local/lib/python3.7/dist-packages (from wandb>=0.10.32->simpletransformers) (0.1.2)\n",
            "Requirement already satisfied: shortuuid>=0.5.0 in /usr/local/lib/python3.7/dist-packages (from wandb>=0.10.32->simpletransformers) (1.0.8)\n",
            "Requirement already satisfied: gitdb<5,>=4.0.1 in /usr/local/lib/python3.7/dist-packages (from GitPython>=1.0.0->wandb>=0.10.32->simpletransformers) (4.0.9)\n",
            "Requirement already satisfied: smmap<6,>=3.0.1 in /usr/local/lib/python3.7/dist-packages (from gitdb<5,>=4.0.1->GitPython>=1.0.0->wandb>=0.10.32->simpletransformers) (5.0.0)\n",
            "Requirement already satisfied: idna<3,>=2.5 in /usr/local/lib/python3.7/dist-packages (from requests->simpletransformers) (2.10)\n",
            "Requirement already satisfied: urllib3!=1.25.0,!=1.25.1,<1.26,>=1.21.1 in /usr/local/lib/python3.7/dist-packages (from requests->simpletransformers) (1.25.11)\n",
            "Requirement already satisfied: certifi>=2017.4.17 in /usr/local/lib/python3.7/dist-packages (from requests->simpletransformers) (2021.10.8)\n",
            "Requirement already satisfied: chardet<4,>=3.0.2 in /usr/local/lib/python3.7/dist-packages (from requests->simpletransformers) (3.0.4)\n",
            "Requirement already satisfied: xxhash in /usr/local/lib/python3.7/dist-packages (from datasets->simpletransformers) (3.0.0)\n",
            "Requirement already satisfied: dill in /usr/local/lib/python3.7/dist-packages (from datasets->simpletransformers) (0.3.4)\n",
            "Requirement already satisfied: responses<0.19 in /usr/local/lib/python3.7/dist-packages (from datasets->simpletransformers) (0.18.0)\n",
            "Requirement already satisfied: multiprocess in /usr/local/lib/python3.7/dist-packages (from datasets->simpletransformers) (0.70.12.2)\n",
            "Requirement already satisfied: aiohttp in /usr/local/lib/python3.7/dist-packages (from datasets->simpletransformers) (3.8.1)\n",
            "Requirement already satisfied: fsspec[http]>=2021.05.0 in /usr/local/lib/python3.7/dist-packages (from datasets->simpletransformers) (2022.3.0)\n",
            "Requirement already satisfied: pyarrow>=5.0.0 in /usr/local/lib/python3.7/dist-packages (from datasets->simpletransformers) (6.0.1)\n",
            "Requirement already satisfied: aiosignal>=1.1.2 in /usr/local/lib/python3.7/dist-packages (from aiohttp->datasets->simpletransformers) (1.2.0)\n",
            "Requirement already satisfied: charset-normalizer<3.0,>=2.0 in /usr/local/lib/python3.7/dist-packages (from aiohttp->datasets->simpletransformers) (2.0.12)\n",
            "Requirement already satisfied: asynctest==0.13.0 in /usr/local/lib/python3.7/dist-packages (from aiohttp->datasets->simpletransformers) (0.13.0)\n",
            "Requirement already satisfied: async-timeout<5.0,>=4.0.0a3 in /usr/local/lib/python3.7/dist-packages (from aiohttp->datasets->simpletransformers) (4.0.2)\n",
            "Requirement already satisfied: attrs>=17.3.0 in /usr/local/lib/python3.7/dist-packages (from aiohttp->datasets->simpletransformers) (21.4.0)\n",
            "Requirement already satisfied: multidict<7.0,>=4.5 in /usr/local/lib/python3.7/dist-packages (from aiohttp->datasets->simpletransformers) (6.0.2)\n",
            "Requirement already satisfied: yarl<2.0,>=1.0 in /usr/local/lib/python3.7/dist-packages (from aiohttp->datasets->simpletransformers) (1.7.2)\n",
            "Requirement already satisfied: frozenlist>=1.1.1 in /usr/local/lib/python3.7/dist-packages (from aiohttp->datasets->simpletransformers) (1.3.0)\n",
            "Requirement already satisfied: zipp>=0.5 in /usr/local/lib/python3.7/dist-packages (from importlib-metadata->transformers>=4.6.0->simpletransformers) (3.8.0)\n",
            "Requirement already satisfied: pytz>=2017.3 in /usr/local/lib/python3.7/dist-packages (from pandas->simpletransformers) (2022.1)\n",
            "Requirement already satisfied: joblib in /usr/local/lib/python3.7/dist-packages (from sacremoses->transformers>=4.6.0->simpletransformers) (1.1.0)\n",
            "Requirement already satisfied: threadpoolctl>=2.0.0 in /usr/local/lib/python3.7/dist-packages (from scikit-learn->simpletransformers) (3.1.0)\n",
            "Requirement already satisfied: toml in /usr/local/lib/python3.7/dist-packages (from streamlit->simpletransformers) (0.10.2)\n",
            "Requirement already satisfied: blinker in /usr/local/lib/python3.7/dist-packages (from streamlit->simpletransformers) (1.4)\n",
            "Requirement already satisfied: altair>=3.2.0 in /usr/local/lib/python3.7/dist-packages (from streamlit->simpletransformers) (4.2.0)\n",
            "Requirement already satisfied: pympler>=0.9 in /usr/local/lib/python3.7/dist-packages (from streamlit->simpletransformers) (1.0.1)\n",
            "Requirement already satisfied: pydeck>=0.1.dev5 in /usr/local/lib/python3.7/dist-packages (from streamlit->simpletransformers) (0.7.1)\n",
            "Requirement already satisfied: cachetools>=4.0 in /usr/local/lib/python3.7/dist-packages (from streamlit->simpletransformers) (4.2.4)\n",
            "Requirement already satisfied: semver in /usr/local/lib/python3.7/dist-packages (from streamlit->simpletransformers) (2.13.0)\n",
            "Requirement already satisfied: validators in /usr/local/lib/python3.7/dist-packages (from streamlit->simpletransformers) (0.18.2)\n",
            "Requirement already satisfied: watchdog in /usr/local/lib/python3.7/dist-packages (from streamlit->simpletransformers) (2.1.7)\n",
            "Requirement already satisfied: tornado>=5.0 in /usr/local/lib/python3.7/dist-packages (from streamlit->simpletransformers) (6.1)\n",
            "Requirement already satisfied: pillow>=6.2.0 in /usr/local/lib/python3.7/dist-packages (from streamlit->simpletransformers) (7.1.2)\n",
            "Requirement already satisfied: tzlocal in /usr/local/lib/python3.7/dist-packages (from streamlit->simpletransformers) (1.5.1)\n",
            "Requirement already satisfied: toolz in /usr/local/lib/python3.7/dist-packages (from altair>=3.2.0->streamlit->simpletransformers) (0.11.2)\n",
            "Requirement already satisfied: jsonschema>=3.0 in /usr/local/lib/python3.7/dist-packages (from altair>=3.2.0->streamlit->simpletransformers) (4.3.3)\n",
            "Requirement already satisfied: jinja2 in /usr/local/lib/python3.7/dist-packages (from altair>=3.2.0->streamlit->simpletransformers) (2.11.3)\n",
            "Requirement already satisfied: entrypoints in /usr/local/lib/python3.7/dist-packages (from altair>=3.2.0->streamlit->simpletransformers) (0.4)\n",
            "Requirement already satisfied: importlib-resources>=1.4.0 in /usr/local/lib/python3.7/dist-packages (from jsonschema>=3.0->altair>=3.2.0->streamlit->simpletransformers) (5.7.1)\n",
            "Requirement already satisfied: pyrsistent!=0.17.0,!=0.17.1,!=0.17.2,>=0.14.0 in /usr/local/lib/python3.7/dist-packages (from jsonschema>=3.0->altair>=3.2.0->streamlit->simpletransformers) (0.18.1)\n",
            "Requirement already satisfied: ipywidgets>=7.0.0 in /usr/local/lib/python3.7/dist-packages (from pydeck>=0.1.dev5->streamlit->simpletransformers) (7.7.0)\n",
            "Requirement already satisfied: traitlets>=4.3.2 in /usr/local/lib/python3.7/dist-packages (from pydeck>=0.1.dev5->streamlit->simpletransformers) (5.1.1)\n",
            "Requirement already satisfied: ipykernel>=5.1.2 in /usr/local/lib/python3.7/dist-packages (from pydeck>=0.1.dev5->streamlit->simpletransformers) (6.13.0)\n",
            "Requirement already satisfied: nest-asyncio in /usr/local/lib/python3.7/dist-packages (from ipykernel>=5.1.2->pydeck>=0.1.dev5->streamlit->simpletransformers) (1.5.5)\n",
            "Requirement already satisfied: jupyter-client>=6.1.12 in /usr/local/lib/python3.7/dist-packages (from ipykernel>=5.1.2->pydeck>=0.1.dev5->streamlit->simpletransformers) (7.3.0)\n",
            "Requirement already satisfied: ipython>=7.23.1 in /usr/local/lib/python3.7/dist-packages (from ipykernel>=5.1.2->pydeck>=0.1.dev5->streamlit->simpletransformers) (7.32.0)\n",
            "Requirement already satisfied: matplotlib-inline>=0.1 in /usr/local/lib/python3.7/dist-packages (from ipykernel>=5.1.2->pydeck>=0.1.dev5->streamlit->simpletransformers) (0.1.3)\n",
            "Requirement already satisfied: debugpy>=1.0 in /usr/local/lib/python3.7/dist-packages (from ipykernel>=5.1.2->pydeck>=0.1.dev5->streamlit->simpletransformers) (1.0.0)\n",
            "Requirement already satisfied: decorator in /usr/local/lib/python3.7/dist-packages (from ipython>=7.23.1->ipykernel>=5.1.2->pydeck>=0.1.dev5->streamlit->simpletransformers) (4.4.2)\n",
            "Requirement already satisfied: pexpect>4.3 in /usr/local/lib/python3.7/dist-packages (from ipython>=7.23.1->ipykernel>=5.1.2->pydeck>=0.1.dev5->streamlit->simpletransformers) (4.8.0)\n",
            "Requirement already satisfied: setuptools>=18.5 in /usr/local/lib/python3.7/dist-packages (from ipython>=7.23.1->ipykernel>=5.1.2->pydeck>=0.1.dev5->streamlit->simpletransformers) (57.4.0)\n",
            "Requirement already satisfied: pickleshare in /usr/local/lib/python3.7/dist-packages (from ipython>=7.23.1->ipykernel>=5.1.2->pydeck>=0.1.dev5->streamlit->simpletransformers) (0.7.5)\n",
            "Requirement already satisfied: pygments in /usr/local/lib/python3.7/dist-packages (from ipython>=7.23.1->ipykernel>=5.1.2->pydeck>=0.1.dev5->streamlit->simpletransformers) (2.6.1)\n",
            "Requirement already satisfied: backcall in /usr/local/lib/python3.7/dist-packages (from ipython>=7.23.1->ipykernel>=5.1.2->pydeck>=0.1.dev5->streamlit->simpletransformers) (0.2.0)\n",
            "Requirement already satisfied: jedi>=0.16 in /usr/local/lib/python3.7/dist-packages (from ipython>=7.23.1->ipykernel>=5.1.2->pydeck>=0.1.dev5->streamlit->simpletransformers) (0.18.1)\n",
            "Requirement already satisfied: prompt-toolkit!=3.0.0,!=3.0.1,<3.1.0,>=2.0.0 in /usr/local/lib/python3.7/dist-packages (from ipython>=7.23.1->ipykernel>=5.1.2->pydeck>=0.1.dev5->streamlit->simpletransformers) (3.0.29)\n",
            "Requirement already satisfied: jupyterlab-widgets>=1.0.0 in /usr/local/lib/python3.7/dist-packages (from ipywidgets>=7.0.0->pydeck>=0.1.dev5->streamlit->simpletransformers) (1.1.0)\n",
            "Requirement already satisfied: ipython-genutils~=0.2.0 in /usr/local/lib/python3.7/dist-packages (from ipywidgets>=7.0.0->pydeck>=0.1.dev5->streamlit->simpletransformers) (0.2.0)\n",
            "Requirement already satisfied: widgetsnbextension~=3.6.0 in /usr/local/lib/python3.7/dist-packages (from ipywidgets>=7.0.0->pydeck>=0.1.dev5->streamlit->simpletransformers) (3.6.0)\n",
            "Requirement already satisfied: nbformat>=4.2.0 in /usr/local/lib/python3.7/dist-packages (from ipywidgets>=7.0.0->pydeck>=0.1.dev5->streamlit->simpletransformers) (5.3.0)\n",
            "Requirement already satisfied: parso<0.9.0,>=0.8.0 in /usr/local/lib/python3.7/dist-packages (from jedi>=0.16->ipython>=7.23.1->ipykernel>=5.1.2->pydeck>=0.1.dev5->streamlit->simpletransformers) (0.8.3)\n",
            "Requirement already satisfied: MarkupSafe>=0.23 in /usr/local/lib/python3.7/dist-packages (from jinja2->altair>=3.2.0->streamlit->simpletransformers) (2.0.1)\n",
            "Requirement already satisfied: pyzmq>=22.3 in /usr/local/lib/python3.7/dist-packages (from jupyter-client>=6.1.12->ipykernel>=5.1.2->pydeck>=0.1.dev5->streamlit->simpletransformers) (22.3.0)\n",
            "Requirement already satisfied: jupyter-core>=4.9.2 in /usr/local/lib/python3.7/dist-packages (from jupyter-client>=6.1.12->ipykernel>=5.1.2->pydeck>=0.1.dev5->streamlit->simpletransformers) (4.10.0)\n",
            "Requirement already satisfied: fastjsonschema in /usr/local/lib/python3.7/dist-packages (from nbformat>=4.2.0->ipywidgets>=7.0.0->pydeck>=0.1.dev5->streamlit->simpletransformers) (2.15.3)\n",
            "Requirement already satisfied: ptyprocess>=0.5 in /usr/local/lib/python3.7/dist-packages (from pexpect>4.3->ipython>=7.23.1->ipykernel>=5.1.2->pydeck>=0.1.dev5->streamlit->simpletransformers) (0.7.0)\n",
            "Requirement already satisfied: wcwidth in /usr/local/lib/python3.7/dist-packages (from prompt-toolkit!=3.0.0,!=3.0.1,<3.1.0,>=2.0.0->ipython>=7.23.1->ipykernel>=5.1.2->pydeck>=0.1.dev5->streamlit->simpletransformers) (0.2.5)\n",
            "Requirement already satisfied: notebook>=4.4.1 in /usr/local/lib/python3.7/dist-packages (from widgetsnbextension~=3.6.0->ipywidgets>=7.0.0->pydeck>=0.1.dev5->streamlit->simpletransformers) (5.3.1)\n",
            "Requirement already satisfied: nbconvert in /usr/local/lib/python3.7/dist-packages (from notebook>=4.4.1->widgetsnbextension~=3.6.0->ipywidgets>=7.0.0->pydeck>=0.1.dev5->streamlit->simpletransformers) (5.6.1)\n",
            "Requirement already satisfied: terminado>=0.8.1 in /usr/local/lib/python3.7/dist-packages (from notebook>=4.4.1->widgetsnbextension~=3.6.0->ipywidgets>=7.0.0->pydeck>=0.1.dev5->streamlit->simpletransformers) (0.13.3)\n",
            "Requirement already satisfied: Send2Trash in /usr/local/lib/python3.7/dist-packages (from notebook>=4.4.1->widgetsnbextension~=3.6.0->ipywidgets>=7.0.0->pydeck>=0.1.dev5->streamlit->simpletransformers) (1.8.0)\n",
            "Requirement already satisfied: mistune<2,>=0.8.1 in /usr/local/lib/python3.7/dist-packages (from nbconvert->notebook>=4.4.1->widgetsnbextension~=3.6.0->ipywidgets>=7.0.0->pydeck>=0.1.dev5->streamlit->simpletransformers) (0.8.4)\n",
            "Requirement already satisfied: testpath in /usr/local/lib/python3.7/dist-packages (from nbconvert->notebook>=4.4.1->widgetsnbextension~=3.6.0->ipywidgets>=7.0.0->pydeck>=0.1.dev5->streamlit->simpletransformers) (0.6.0)\n",
            "Requirement already satisfied: bleach in /usr/local/lib/python3.7/dist-packages (from nbconvert->notebook>=4.4.1->widgetsnbextension~=3.6.0->ipywidgets>=7.0.0->pydeck>=0.1.dev5->streamlit->simpletransformers) (5.0.0)\n",
            "Requirement already satisfied: defusedxml in /usr/local/lib/python3.7/dist-packages (from nbconvert->notebook>=4.4.1->widgetsnbextension~=3.6.0->ipywidgets>=7.0.0->pydeck>=0.1.dev5->streamlit->simpletransformers) (0.7.1)\n",
            "Requirement already satisfied: pandocfilters>=1.4.1 in /usr/local/lib/python3.7/dist-packages (from nbconvert->notebook>=4.4.1->widgetsnbextension~=3.6.0->ipywidgets>=7.0.0->pydeck>=0.1.dev5->streamlit->simpletransformers) (1.5.0)\n",
            "Requirement already satisfied: webencodings in /usr/local/lib/python3.7/dist-packages (from bleach->nbconvert->notebook>=4.4.1->widgetsnbextension~=3.6.0->ipywidgets>=7.0.0->pydeck>=0.1.dev5->streamlit->simpletransformers) (0.5.1)\n",
            "Requirement already satisfied: google-auth<3,>=1.6.3 in /usr/local/lib/python3.7/dist-packages (from tensorboard->simpletransformers) (1.35.0)\n",
            "Requirement already satisfied: grpcio>=1.24.3 in /usr/local/lib/python3.7/dist-packages (from tensorboard->simpletransformers) (1.44.0)\n",
            "Requirement already satisfied: wheel>=0.26 in /usr/local/lib/python3.7/dist-packages (from tensorboard->simpletransformers) (0.37.1)\n",
            "Requirement already satisfied: tensorboard-data-server<0.7.0,>=0.6.0 in /usr/local/lib/python3.7/dist-packages (from tensorboard->simpletransformers) (0.6.1)\n",
            "Requirement already satisfied: werkzeug>=0.11.15 in /usr/local/lib/python3.7/dist-packages (from tensorboard->simpletransformers) (1.0.1)\n",
            "Requirement already satisfied: google-auth-oauthlib<0.5,>=0.4.1 in /usr/local/lib/python3.7/dist-packages (from tensorboard->simpletransformers) (0.4.6)\n",
            "Requirement already satisfied: absl-py>=0.4 in /usr/local/lib/python3.7/dist-packages (from tensorboard->simpletransformers) (1.0.0)\n",
            "Requirement already satisfied: tensorboard-plugin-wit>=1.6.0 in /usr/local/lib/python3.7/dist-packages (from tensorboard->simpletransformers) (1.8.1)\n",
            "Requirement already satisfied: markdown>=2.6.8 in /usr/local/lib/python3.7/dist-packages (from tensorboard->simpletransformers) (3.3.6)\n",
            "Requirement already satisfied: pyasn1-modules>=0.2.1 in /usr/local/lib/python3.7/dist-packages (from google-auth<3,>=1.6.3->tensorboard->simpletransformers) (0.2.8)\n",
            "Requirement already satisfied: rsa<5,>=3.1.4 in /usr/local/lib/python3.7/dist-packages (from google-auth<3,>=1.6.3->tensorboard->simpletransformers) (4.8)\n",
            "Requirement already satisfied: requests-oauthlib>=0.7.0 in /usr/local/lib/python3.7/dist-packages (from google-auth-oauthlib<0.5,>=0.4.1->tensorboard->simpletransformers) (1.3.1)\n",
            "Requirement already satisfied: pyasn1<0.5.0,>=0.4.6 in /usr/local/lib/python3.7/dist-packages (from pyasn1-modules>=0.2.1->google-auth<3,>=1.6.3->tensorboard->simpletransformers) (0.4.8)\n",
            "Requirement already satisfied: oauthlib>=3.0.0 in /usr/local/lib/python3.7/dist-packages (from requests-oauthlib>=0.7.0->google-auth-oauthlib<0.5,>=0.4.1->tensorboard->simpletransformers) (3.2.0)\n"
          ]
        }
      ],
      "source": [
        "!pip install simpletransformers"
      ]
    },
    {
      "cell_type": "code",
      "execution_count": 99,
      "metadata": {
        "colab": {
          "base_uri": "https://localhost:8080/"
        },
        "id": "zDlS7hPe493R",
        "outputId": "d0d73d0d-45a5-468c-8949-b8add5040b08"
      },
      "outputs": [
        {
          "output_type": "stream",
          "name": "stdout",
          "text": [
            "[nltk_data] Downloading package stopwords to /root/nltk_data...\n",
            "[nltk_data]   Package stopwords is already up-to-date!\n",
            "[nltk_data] Downloading package wordnet to /root/nltk_data...\n",
            "[nltk_data]   Package wordnet is already up-to-date!\n",
            "[nltk_data] Downloading package punkt to /root/nltk_data...\n",
            "[nltk_data]   Package punkt is already up-to-date!\n",
            "[nltk_data] Downloading package words to /root/nltk_data...\n",
            "[nltk_data]   Package words is already up-to-date!\n",
            "[nltk_data] Downloading package averaged_perceptron_tagger to\n",
            "[nltk_data]     /root/nltk_data...\n",
            "[nltk_data]   Package averaged_perceptron_tagger is already up-to-\n",
            "[nltk_data]       date!\n"
          ]
        }
      ],
      "source": [
        "import pandas as pd\n",
        "import numpy as np\n",
        "import neattext.functions as nfx\n",
        "import matplotlib.pyplot as plt\n",
        "from neattext.pipeline import TextPipeline\n",
        "from neattext import TextMetrics\n",
        "import seaborn as sns\n",
        "\n",
        "from sklearn.model_selection import train_test_split\n",
        "from sklearn.metrics import classification_report,confusion_matrix,plot_confusion_matrix\n",
        "from sklearn.metrics import accuracy_score, precision_score, recall_score,f1_score, mean_squared_error,roc_auc_score\n",
        "from sklearn.model_selection import GridSearchCV\n",
        "import nltk\n",
        "nltk.download('stopwords')\n",
        "nltk.download('wordnet')\n",
        "nltk.download('punkt')\n",
        "nltk.download('words')\n",
        "nltk.download('averaged_perceptron_tagger')\n",
        "from nltk.corpus import wordnet, stopwords\n",
        "\n",
        "import imblearn.under_sampling as under\n",
        "from simpletransformers.classification import ClassificationModel, ClassificationArgs\n",
        "from sklearn.utils import resample\n",
        "from sklearn import preprocessing"
      ]
    },
    {
      "cell_type": "code",
      "execution_count": 100,
      "metadata": {
        "id": "-2xpQU4Iuhzm"
      },
      "outputs": [],
      "source": [
        "from sklearn.pipeline import Pipeline\n",
        "from sklearn.feature_extraction.text import CountVectorizer, TfidfTransformer\n",
        "from sklearn.naive_bayes import MultinomialNB,CategoricalNB \n",
        "from sklearn.linear_model import SGDClassifier\n",
        "from sklearn.linear_model import LogisticRegression\n",
        "from sklearn.model_selection import cross_val_score\n",
        "from sklearn.model_selection import RepeatedStratifiedKFold\n",
        "import math\n",
        "from sklearn import preprocessing\n",
        "\n",
        "from wordcloud import WordCloud, STOPWORDS, ImageColorGenerator"
      ]
    },
    {
      "cell_type": "markdown",
      "metadata": {
        "id": "eW4lGm-n8Q4W"
      },
      "source": [
        "### **Loading DataSet**"
      ]
    },
    {
      "cell_type": "code",
      "execution_count": 101,
      "metadata": {
        "colab": {
          "base_uri": "https://localhost:8080/",
          "height": 0
        },
        "id": "2NnJzKamuwu1",
        "outputId": "7db3f62e-f62e-4730-9fac-e3f91d6adec0"
      },
      "outputs": [
        {
          "output_type": "execute_result",
          "data": {
            "text/plain": [
              "               review_id                                               text  \\\n",
              "0  product_review_000000  I can't even remember the first time I finishe...   \n",
              "1  product_review_000001  Ernie Ball's Electric Acoustic sound dull. I h...   \n",
              "2  product_review_000002  Anyone who buys this game because it's markete...   \n",
              "3  product_review_000003  The system had a burn in the screen and kept g...   \n",
              "4  product_review_000004  As this is a remake/remaster review I will not...   \n",
              "\n",
              "  verified  review_score     product_category  \n",
              "0    False           5.0          video_games  \n",
              "1     True          -1.0  musical_instruments  \n",
              "2    False           5.0          video_games  \n",
              "3     True           3.0          video_games  \n",
              "4     True          -1.0          video_games  "
            ],
            "text/html": [
              "\n",
              "  <div id=\"df-37ba8e9b-771c-4c51-9136-b49089895c65\">\n",
              "    <div class=\"colab-df-container\">\n",
              "      <div>\n",
              "<style scoped>\n",
              "    .dataframe tbody tr th:only-of-type {\n",
              "        vertical-align: middle;\n",
              "    }\n",
              "\n",
              "    .dataframe tbody tr th {\n",
              "        vertical-align: top;\n",
              "    }\n",
              "\n",
              "    .dataframe thead th {\n",
              "        text-align: right;\n",
              "    }\n",
              "</style>\n",
              "<table border=\"1\" class=\"dataframe\">\n",
              "  <thead>\n",
              "    <tr style=\"text-align: right;\">\n",
              "      <th></th>\n",
              "      <th>review_id</th>\n",
              "      <th>text</th>\n",
              "      <th>verified</th>\n",
              "      <th>review_score</th>\n",
              "      <th>product_category</th>\n",
              "    </tr>\n",
              "  </thead>\n",
              "  <tbody>\n",
              "    <tr>\n",
              "      <th>0</th>\n",
              "      <td>product_review_000000</td>\n",
              "      <td>I can't even remember the first time I finishe...</td>\n",
              "      <td>False</td>\n",
              "      <td>5.0</td>\n",
              "      <td>video_games</td>\n",
              "    </tr>\n",
              "    <tr>\n",
              "      <th>1</th>\n",
              "      <td>product_review_000001</td>\n",
              "      <td>Ernie Ball's Electric Acoustic sound dull. I h...</td>\n",
              "      <td>True</td>\n",
              "      <td>-1.0</td>\n",
              "      <td>musical_instruments</td>\n",
              "    </tr>\n",
              "    <tr>\n",
              "      <th>2</th>\n",
              "      <td>product_review_000002</td>\n",
              "      <td>Anyone who buys this game because it's markete...</td>\n",
              "      <td>False</td>\n",
              "      <td>5.0</td>\n",
              "      <td>video_games</td>\n",
              "    </tr>\n",
              "    <tr>\n",
              "      <th>3</th>\n",
              "      <td>product_review_000003</td>\n",
              "      <td>The system had a burn in the screen and kept g...</td>\n",
              "      <td>True</td>\n",
              "      <td>3.0</td>\n",
              "      <td>video_games</td>\n",
              "    </tr>\n",
              "    <tr>\n",
              "      <th>4</th>\n",
              "      <td>product_review_000004</td>\n",
              "      <td>As this is a remake/remaster review I will not...</td>\n",
              "      <td>True</td>\n",
              "      <td>-1.0</td>\n",
              "      <td>video_games</td>\n",
              "    </tr>\n",
              "  </tbody>\n",
              "</table>\n",
              "</div>\n",
              "      <button class=\"colab-df-convert\" onclick=\"convertToInteractive('df-37ba8e9b-771c-4c51-9136-b49089895c65')\"\n",
              "              title=\"Convert this dataframe to an interactive table.\"\n",
              "              style=\"display:none;\">\n",
              "        \n",
              "  <svg xmlns=\"http://www.w3.org/2000/svg\" height=\"24px\"viewBox=\"0 0 24 24\"\n",
              "       width=\"24px\">\n",
              "    <path d=\"M0 0h24v24H0V0z\" fill=\"none\"/>\n",
              "    <path d=\"M18.56 5.44l.94 2.06.94-2.06 2.06-.94-2.06-.94-.94-2.06-.94 2.06-2.06.94zm-11 1L8.5 8.5l.94-2.06 2.06-.94-2.06-.94L8.5 2.5l-.94 2.06-2.06.94zm10 10l.94 2.06.94-2.06 2.06-.94-2.06-.94-.94-2.06-.94 2.06-2.06.94z\"/><path d=\"M17.41 7.96l-1.37-1.37c-.4-.4-.92-.59-1.43-.59-.52 0-1.04.2-1.43.59L10.3 9.45l-7.72 7.72c-.78.78-.78 2.05 0 2.83L4 21.41c.39.39.9.59 1.41.59.51 0 1.02-.2 1.41-.59l7.78-7.78 2.81-2.81c.8-.78.8-2.07 0-2.86zM5.41 20L4 18.59l7.72-7.72 1.47 1.35L5.41 20z\"/>\n",
              "  </svg>\n",
              "      </button>\n",
              "      \n",
              "  <style>\n",
              "    .colab-df-container {\n",
              "      display:flex;\n",
              "      flex-wrap:wrap;\n",
              "      gap: 12px;\n",
              "    }\n",
              "\n",
              "    .colab-df-convert {\n",
              "      background-color: #E8F0FE;\n",
              "      border: none;\n",
              "      border-radius: 50%;\n",
              "      cursor: pointer;\n",
              "      display: none;\n",
              "      fill: #1967D2;\n",
              "      height: 32px;\n",
              "      padding: 0 0 0 0;\n",
              "      width: 32px;\n",
              "    }\n",
              "\n",
              "    .colab-df-convert:hover {\n",
              "      background-color: #E2EBFA;\n",
              "      box-shadow: 0px 1px 2px rgba(60, 64, 67, 0.3), 0px 1px 3px 1px rgba(60, 64, 67, 0.15);\n",
              "      fill: #174EA6;\n",
              "    }\n",
              "\n",
              "    [theme=dark] .colab-df-convert {\n",
              "      background-color: #3B4455;\n",
              "      fill: #D2E3FC;\n",
              "    }\n",
              "\n",
              "    [theme=dark] .colab-df-convert:hover {\n",
              "      background-color: #434B5C;\n",
              "      box-shadow: 0px 1px 3px 1px rgba(0, 0, 0, 0.15);\n",
              "      filter: drop-shadow(0px 1px 2px rgba(0, 0, 0, 0.3));\n",
              "      fill: #FFFFFF;\n",
              "    }\n",
              "  </style>\n",
              "\n",
              "      <script>\n",
              "        const buttonEl =\n",
              "          document.querySelector('#df-37ba8e9b-771c-4c51-9136-b49089895c65 button.colab-df-convert');\n",
              "        buttonEl.style.display =\n",
              "          google.colab.kernel.accessAllowed ? 'block' : 'none';\n",
              "\n",
              "        async function convertToInteractive(key) {\n",
              "          const element = document.querySelector('#df-37ba8e9b-771c-4c51-9136-b49089895c65');\n",
              "          const dataTable =\n",
              "            await google.colab.kernel.invokeFunction('convertToInteractive',\n",
              "                                                     [key], {});\n",
              "          if (!dataTable) return;\n",
              "\n",
              "          const docLinkHtml = 'Like what you see? Visit the ' +\n",
              "            '<a target=\"_blank\" href=https://colab.research.google.com/notebooks/data_table.ipynb>data table notebook</a>'\n",
              "            + ' to learn more about interactive tables.';\n",
              "          element.innerHTML = '';\n",
              "          dataTable['output_type'] = 'display_data';\n",
              "          await google.colab.output.renderOutput(dataTable, element);\n",
              "          const docLink = document.createElement('div');\n",
              "          docLink.innerHTML = docLinkHtml;\n",
              "          element.appendChild(docLink);\n",
              "        }\n",
              "      </script>\n",
              "    </div>\n",
              "  </div>\n",
              "  "
            ]
          },
          "metadata": {},
          "execution_count": 101
        }
      ],
      "source": [
        "data = pd.read_csv('https://raw.githubusercontent.com/niyaryca/AMLDataset/main/processed_reviews_split_surnamesJ_minimal.csv')\n",
        "data.head()"
      ]
    },
    {
      "cell_type": "markdown",
      "metadata": {
        "id": "sQEIyc_t_Fja"
      },
      "source": [
        "# **Explanatory Data Analysis**"
      ]
    },
    {
      "cell_type": "code",
      "source": [
        "data_filtered = data.copy()\n",
        "data_filtered.info()"
      ],
      "metadata": {
        "colab": {
          "base_uri": "https://localhost:8080/"
        },
        "id": "9LjFDJTGcBjh",
        "outputId": "6dd0b8b8-7b78-46f1-8128-79d93c9f8f72"
      },
      "execution_count": 102,
      "outputs": [
        {
          "output_type": "stream",
          "name": "stdout",
          "text": [
            "<class 'pandas.core.frame.DataFrame'>\n",
            "RangeIndex: 32918 entries, 0 to 32917\n",
            "Data columns (total 5 columns):\n",
            " #   Column            Non-Null Count  Dtype  \n",
            "---  ------            --------------  -----  \n",
            " 0   review_id         32918 non-null  object \n",
            " 1   text              32908 non-null  object \n",
            " 2   verified          32797 non-null  object \n",
            " 3   review_score      32918 non-null  float64\n",
            " 4   product_category  32012 non-null  object \n",
            "dtypes: float64(1), object(4)\n",
            "memory usage: 1.3+ MB\n"
          ]
        }
      ]
    },
    {
      "cell_type": "markdown",
      "source": [
        "**It can be noticed that there are some null values present in some columns. So, let's check with each columns**\n",
        "\n",
        "---\n",
        "\n"
      ],
      "metadata": {
        "id": "Sg5DYmqJyD4_"
      }
    },
    {
      "cell_type": "markdown",
      "metadata": {
        "id": "4EeCa1m_q1gL"
      },
      "source": [
        "### **Review ID Column**"
      ]
    },
    {
      "cell_type": "code",
      "execution_count": 103,
      "metadata": {
        "colab": {
          "base_uri": "https://localhost:8080/"
        },
        "id": "geQMpXivrAzm",
        "outputId": "45fc5b2c-f93f-4f03-a6c9-cad0691fac14"
      },
      "outputs": [
        {
          "output_type": "execute_result",
          "data": {
            "text/plain": [
              "count                     32918\n",
              "unique                    32918\n",
              "top       product_review_000000\n",
              "freq                          1\n",
              "Name: review_id, dtype: object"
            ]
          },
          "metadata": {},
          "execution_count": 103
        }
      ],
      "source": [
        "data['review_id'].describe()"
      ]
    },
    {
      "cell_type": "markdown",
      "metadata": {
        "id": "VuHG2PoFrFfs"
      },
      "source": [
        "All the ids are unique."
      ]
    },
    {
      "cell_type": "markdown",
      "metadata": {
        "id": "UfvrsgkRnqp2"
      },
      "source": [
        "### **Ratings Column**"
      ]
    },
    {
      "cell_type": "code",
      "execution_count": 104,
      "metadata": {
        "colab": {
          "base_uri": "https://localhost:8080/"
        },
        "id": "hk1K5gvJkJxm",
        "outputId": "6fe2eda2-dbd4-459a-a05b-842ffa4053bc"
      },
      "outputs": [
        {
          "output_type": "execute_result",
          "data": {
            "text/plain": [
              "count    32918.000000\n",
              "mean         4.089009\n",
              "std          1.435505\n",
              "min         -1.000000\n",
              "25%          4.000000\n",
              "50%          5.000000\n",
              "75%          5.000000\n",
              "max          5.000000\n",
              "Name: review_score, dtype: float64"
            ]
          },
          "metadata": {},
          "execution_count": 104
        }
      ],
      "source": [
        "data['review_score'].describe()"
      ]
    },
    {
      "cell_type": "code",
      "execution_count": 105,
      "metadata": {
        "colab": {
          "base_uri": "https://localhost:8080/"
        },
        "id": "KZ6_QcaMxepE",
        "outputId": "f9d048f1-6f9b-4da1-fcdb-6d6c89771d06"
      },
      "outputs": [
        {
          "output_type": "stream",
          "name": "stdout",
          "text": [
            " 5.0    19280\n",
            " 4.0     6205\n",
            " 3.0     3109\n",
            " 1.0     1872\n",
            " 2.0     1545\n",
            "-1.0      907\n",
            "Name: review_score, dtype: int64\n"
          ]
        }
      ],
      "source": [
        "print(data['review_score'].value_counts())"
      ]
    },
    {
      "cell_type": "markdown",
      "metadata": {
        "id": "wHuqqxQM_tr4"
      },
      "source": [
        "The reviews are negative as well which maybe an error so making the rows with negative values null."
      ]
    },
    {
      "cell_type": "code",
      "execution_count": 106,
      "metadata": {
        "colab": {
          "base_uri": "https://localhost:8080/"
        },
        "id": "F9-7npoXAeuD",
        "outputId": "05e26ebe-a736-4037-c25d-e840d4dcbd76"
      },
      "outputs": [
        {
          "output_type": "stream",
          "name": "stdout",
          "text": [
            "(907, 5)\n"
          ]
        }
      ],
      "source": [
        "review_score_nulls = data_filtered[data_filtered.review_score<0] #for excluded data\n",
        "print(review_score_nulls.shape)\n",
        "\n",
        "data_filtered = data_filtered.drop(data_filtered[data_filtered.review_score<0].index)"
      ]
    },
    {
      "cell_type": "markdown",
      "metadata": {
        "id": "C7Ta4xEDotZq"
      },
      "source": [
        "### **Prodcut Category Column**"
      ]
    },
    {
      "cell_type": "code",
      "execution_count": 107,
      "metadata": {
        "colab": {
          "base_uri": "https://localhost:8080/"
        },
        "id": "e2JiNpVxo3uv",
        "outputId": "1a4651ef-696b-4cf1-c760-abe407d0a919"
      },
      "outputs": [
        {
          "output_type": "execute_result",
          "data": {
            "text/plain": [
              "array(['video_games', 'musical_instruments', nan], dtype=object)"
            ]
          },
          "metadata": {},
          "execution_count": 107
        }
      ],
      "source": [
        "data['product_category'].unique()"
      ]
    },
    {
      "cell_type": "markdown",
      "metadata": {
        "id": "O55M2EPFo_mM"
      },
      "source": [
        "There are some null values present in this column."
      ]
    },
    {
      "cell_type": "markdown",
      "metadata": {
        "id": "Tizyoa2mngxv"
      },
      "source": [
        "### **Reviews Column**"
      ]
    },
    {
      "cell_type": "code",
      "execution_count": 108,
      "metadata": {
        "colab": {
          "base_uri": "https://localhost:8080/"
        },
        "id": "u_nJY-ZWkTgf",
        "outputId": "b2835b6a-88b6-48b1-d867-b8c3b19ce742"
      },
      "outputs": [
        {
          "output_type": "execute_result",
          "data": {
            "text/plain": [
              "count                                                 32908\n",
              "unique                                                30159\n",
              "top       i would have gave it 5  out of 5 but u play th...\n",
              "freq                                                      3\n",
              "Name: text, dtype: object"
            ]
          },
          "metadata": {},
          "execution_count": 108
        }
      ],
      "source": [
        "data['text'].describe()"
      ]
    },
    {
      "cell_type": "markdown",
      "metadata": {
        "id": "z2mrn9G59zB2"
      },
      "source": [
        "It is seen that there are thousands of duplicated reviews, so removing those entries."
      ]
    },
    {
      "cell_type": "code",
      "execution_count": 109,
      "metadata": {
        "colab": {
          "base_uri": "https://localhost:8080/"
        },
        "id": "vvxPRB4qnJ-U",
        "outputId": "d9973f3d-b0bf-46c1-b8ef-1441b1f72656"
      },
      "outputs": [
        {
          "output_type": "stream",
          "name": "stdout",
          "text": [
            "(1851, 5)\n"
          ]
        }
      ],
      "source": [
        "duplicated_rows = data_filtered[data_filtered.duplicated(subset=['text'],keep='last')] #for excluded data\n",
        "print(duplicated_rows.shape)\n",
        "data_filtered = data_filtered.drop_duplicates(subset=['text'],keep='first')"
      ]
    },
    {
      "cell_type": "markdown",
      "metadata": {
        "id": "dtR_xaQ9ogtw"
      },
      "source": [
        "### **Verified Account Column**"
      ]
    },
    {
      "cell_type": "code",
      "source": [
        "data_filtered['verified'].value_counts()"
      ],
      "metadata": {
        "colab": {
          "base_uri": "https://localhost:8080/"
        },
        "id": "TBT3R31lOMrv",
        "outputId": "c3010de0-a34b-4f46-fa7a-c426af35b8f7"
      },
      "execution_count": 110,
      "outputs": [
        {
          "output_type": "execute_result",
          "data": {
            "text/plain": [
              "True     21361\n",
              "False     8692\n",
              "Name: verified, dtype: int64"
            ]
          },
          "metadata": {},
          "execution_count": 110
        }
      ]
    },
    {
      "cell_type": "markdown",
      "metadata": {
        "id": "9HvloXjY9iUT"
      },
      "source": [
        "Taking values with only verified accounts because there are alot of people that just are there to share their thoughts even after buying it from another seller, so unverified data present in Amazon that may hamper the quality of the data."
      ]
    },
    {
      "cell_type": "code",
      "source": [
        "unverified = data_filtered[data_filtered.verified==False] #for excluded data\n",
        "data_filtered = data_filtered.drop(data_filtered[data_filtered.verified == False].index)"
      ],
      "metadata": {
        "id": "H6PNAWuIiF9X"
      },
      "execution_count": 111,
      "outputs": []
    },
    {
      "cell_type": "markdown",
      "metadata": {
        "id": "smnKTQ1upIKy"
      },
      "source": [
        "### **Removing data with null values**"
      ]
    },
    {
      "cell_type": "markdown",
      "metadata": {
        "id": "V-41pO4NP2ra"
      },
      "source": [
        "**Removing data where the reviews are null because nothing can be done for that as the whole prediction depends on quality data**"
      ]
    },
    {
      "cell_type": "code",
      "execution_count": 112,
      "metadata": {
        "colab": {
          "base_uri": "https://localhost:8080/"
        },
        "id": "-poZfB4cPxBS",
        "outputId": "ddf6003c-a18a-4f4b-925d-0e60cb0c973b"
      },
      "outputs": [
        {
          "output_type": "stream",
          "name": "stdout",
          "text": [
            "(430, 5)\n",
            "Removed Rows: 11880\n"
          ]
        }
      ],
      "source": [
        "null_values = data_filtered[data_filtered.isna().any(axis=1)] #for excluded data\n",
        "print(null_values.shape)\n",
        "data_filtered = data_filtered.dropna()\n",
        "\n",
        "print( 'Removed Rows: ' + str(data.shape[0] - data_filtered.shape[0]))"
      ]
    },
    {
      "cell_type": "markdown",
      "metadata": {
        "id": "c94BKlBspqYm"
      },
      "source": [
        "### **`11,880 rows were removed after EDA.`**\n",
        "\n",
        "---\n"
      ]
    },
    {
      "cell_type": "markdown",
      "metadata": {
        "id": "MCnIbnJq-K-x"
      },
      "source": [
        "## **Exploratory Data Analysis**"
      ]
    },
    {
      "cell_type": "markdown",
      "source": [
        "### ***Product Category***"
      ],
      "metadata": {
        "id": "0bw_Yrhd68QW"
      }
    },
    {
      "cell_type": "code",
      "execution_count": 113,
      "metadata": {
        "colab": {
          "base_uri": "https://localhost:8080/",
          "height": 570
        },
        "id": "OinpsSs3nbpM",
        "outputId": "9825b2c0-2f31-4f07-b9db-5d867b9132aa"
      },
      "outputs": [
        {
          "output_type": "display_data",
          "data": {
            "text/plain": [
              "<Figure size 576x576 with 1 Axes>"
            ],
            "image/png": "[encoded data removed]"
          },
          "metadata": {
            "needs_background": "light"
          }
        },
        {
          "output_type": "stream",
          "name": "stdout",
          "text": [
            "\n",
            "\n",
            "video_games            12658\n",
            "musical_instruments     8380\n",
            "Name: product_category, dtype: int64\n"
          ]
        }
      ],
      "source": [
        "category_classes = data_filtered.product_category.unique()\n",
        "category_counts = []\n",
        "\n",
        "for i in category_classes:\n",
        "  count = len(data_filtered[data_filtered.product_category==i])\n",
        "  category_counts.append(count)\n",
        "\n",
        "plt.figure(figsize=(8, 8))\n",
        "plt.bar(category_classes,category_counts,color=['red','blue'])\n",
        "plt.show()\n",
        "\n",
        "print('\\n')\n",
        "print(data_filtered['product_category'].value_counts())"
      ]
    },
    {
      "cell_type": "markdown",
      "source": [
        "### ***Rating Score Proportions***"
      ],
      "metadata": {
        "id": "dc3xzMLP7FkO"
      }
    },
    {
      "cell_type": "code",
      "execution_count": 114,
      "metadata": {
        "colab": {
          "base_uri": "https://localhost:8080/"
        },
        "id": "q4zQoBRVs8fU",
        "outputId": "5df61647-0bfc-4b8e-a1fd-9a34e9822cba"
      },
      "outputs": [
        {
          "output_type": "stream",
          "name": "stdout",
          "text": [
            "\n",
            "\n",
            "5.0    13653\n",
            "4.0     3750\n",
            "3.0     1816\n",
            "1.0      982\n",
            "2.0      837\n",
            "Name: review_score, dtype: int64\n"
          ]
        }
      ],
      "source": [
        "rating_classes = data_filtered.review_score.unique()\n",
        "rating_counts = []\n",
        "\n",
        "for i in rating_classes:\n",
        "  count = len(data_filtered[data_filtered.review_score==i])\n",
        "  rating_counts.append(count)\n",
        "\n",
        "print('\\n')\n",
        "print(data_filtered['review_score'].value_counts())"
      ]
    },
    {
      "cell_type": "code",
      "source": [
        "explode = [0, 0.1, 0, 0, 0]\n",
        "fig, ax = plt.subplots(figsize=(8, 8))\n",
        "\n",
        "patches, texts, pcts = ax.pie(\n",
        "    rating_counts, labels=rating_classes, autopct='%.1f%%',\n",
        "    textprops={'size': 'x-large'}\n",
        "    ,shadow=True,explode=explode)\n",
        "for i, patch in enumerate(patches):\n",
        "  texts[i].set_color(patch.get_facecolor())\n",
        "plt.setp(pcts, color='white')\n",
        "plt.setp(texts, fontweight=1000)\n",
        "plt.tight_layout()"
      ],
      "metadata": {
        "colab": {
          "base_uri": "https://localhost:8080/",
          "height": 585
        },
        "id": "OgMC156S1zNd",
        "outputId": "82f3d66a-b362-4a31-d399-a4d71f26b823"
      },
      "execution_count": 115,
      "outputs": [
        {
          "output_type": "display_data",
          "data": {
            "text/plain": [
              "<Figure size 576x576 with 1 Axes>"
            ],
            "image/png": "[encoded data removed]"
          },
          "metadata": {}
        }
      ]
    },
    {
      "cell_type": "markdown",
      "source": [
        "### ***Review Text Distribution***"
      ],
      "metadata": {
        "id": "uSei4B-87LUq"
      }
    },
    {
      "cell_type": "code",
      "source": [
        "data_filtered['review_len'] = data_filtered['text'].astype(str).apply(len)\n",
        "data_filtered['word_count'] = data_filtered['text'].apply(lambda x: len(str(x).split()))\n",
        "print(data_filtered['word_count'].describe())\n",
        "\n",
        "x_min = 0\n",
        "x_max = 100\n",
        "bin_width = 2\n",
        "\n",
        "n_bins = int((bin_width + x_max - x_min) / bin_width)\n",
        "print(str(n_bins) + ' bins')\n",
        "bins = [(x_min + x * (bin_width + x_max - x_min) / n_bins) for x in range(int(n_bins))]\n",
        "\n",
        "plt.figure(figsize=(8, 8))\n",
        "plt.hist(data_filtered['word_count'], bins)\n",
        "plt.title('Review Words Distribution', fontsize=20)\n",
        "plt.show()"
      ],
      "metadata": {
        "colab": {
          "base_uri": "https://localhost:8080/",
          "height": 678
        },
        "id": "Zy9FuCc96dLc",
        "outputId": "9dbec8c7-09bf-4012-875b-0af2fc619a5a"
      },
      "execution_count": 116,
      "outputs": [
        {
          "output_type": "stream",
          "name": "stdout",
          "text": [
            "count    21038.000000\n",
            "mean        70.767326\n",
            "std        131.542871\n",
            "min          1.000000\n",
            "25%         14.000000\n",
            "50%         34.000000\n",
            "75%         73.000000\n",
            "max       3076.000000\n",
            "Name: word_count, dtype: float64\n",
            "51 bins\n"
          ]
        },
        {
          "output_type": "display_data",
          "data": {
            "text/plain": [
              "<Figure size 576x576 with 1 Axes>"
            ],
            "image/png": "[encoded data removed]"
          },
          "metadata": {
            "needs_background": "light"
          }
        }
      ]
    },
    {
      "cell_type": "markdown",
      "source": [
        "### **Exporting Excluded data**"
      ],
      "metadata": {
        "id": "J70KDGZJa-U0"
      }
    },
    {
      "cell_type": "code",
      "source": [
        "# from google.colab import drive\n",
        "# drive.mount('drive')\n",
        "\n",
        "# deleted = pd.concat([null_values,unverified,duplicated_rows,review_score_nulls])\n",
        "# print(deleted.shape)\n",
        "\n",
        "# deleted.to_csv('/content/drive/My Drive/excluded_data.csv', encoding='utf-8', index=False)"
      ],
      "metadata": {
        "id": "e7JUKXwVgDrR"
      },
      "execution_count": 117,
      "outputs": []
    },
    {
      "cell_type": "markdown",
      "metadata": {
        "id": "EVJ3Z_oE1rbJ"
      },
      "source": [
        "# **Text Preprocessing**"
      ]
    },
    {
      "cell_type": "code",
      "execution_count": 118,
      "metadata": {
        "id": "QFvQ3Mtx11ZG",
        "colab": {
          "base_uri": "https://localhost:8080/"
        },
        "outputId": "5e2b8c0c-1208-4a17-fb42-8efae2a39de7"
      },
      "outputs": [
        {
          "output_type": "execute_result",
          "data": {
            "text/plain": [
              "((21038, 7), (32918, 5))"
            ]
          },
          "metadata": {},
          "execution_count": 118
        }
      ],
      "source": [
        "processed_data = data_filtered.copy()\n",
        "processed_data.shape, data.shape"
      ]
    },
    {
      "cell_type": "markdown",
      "metadata": {
        "id": "KzslgbAS2MeX"
      },
      "source": [
        "### **Removing Stopwords, Special Characters, emojis, emails, numbers, phone numbers, html tags, punctuations, urls, address**\n",
        "\n",
        "---"
      ]
    },
    {
      "cell_type": "code",
      "execution_count": 119,
      "metadata": {
        "id": "DXgsOoyh0nIO"
      },
      "outputs": [],
      "source": [
        "def preprocess(document):\n",
        "    docx= document.apply(nfx.normalize)\n",
        "    docx= docx.apply(nfx.remove_puncts)\n",
        "    docx= docx.apply(nfx.remove_stopwords)\n",
        "    docx= docx.apply(nfx.remove_html_tags)\n",
        "    docx= docx.apply(nfx.remove_special_characters)\n",
        "    docx= docx.apply(nfx.remove_emojis)\n",
        "    docx= docx.apply(nfx.fix_contractions)\n",
        "    docx= docx.apply(nfx.remove_emails)\n",
        "    docx= docx.apply(nfx.remove_numbers)\n",
        "    docx= docx.apply(nfx.remove_phone_numbers)\n",
        "    docx= docx.apply(nfx.remove_btc_address)\n",
        "    docx= docx.apply(nfx.remove_urls)\n",
        "    return docx.str.lower()\n",
        "\n",
        "processed_data['clean_reviews'] = preprocess(processed_data['text'])"
      ]
    },
    {
      "cell_type": "markdown",
      "metadata": {
        "id": "wJPVHuow3umk"
      },
      "source": [
        "**Comparing with the original text**"
      ]
    },
    {
      "cell_type": "code",
      "execution_count": 120,
      "metadata": {
        "colab": {
          "base_uri": "https://localhost:8080/",
          "height": 206
        },
        "id": "wNT0MWVj3pz9",
        "outputId": "ae759669-bb3b-431f-fe66-ccaccc400e50"
      },
      "outputs": [
        {
          "output_type": "execute_result",
          "data": {
            "text/plain": [
              "                                        clean_reviews  \\\n",
              "3   system burn screen kept going usb mode way fix...   \n",
              "5                                          good happy   \n",
              "7                   love thx perfect love thx perfect   \n",
              "8   flimsy thought getting orange ones oh know des...   \n",
              "11  course best perfect controls great original le...   \n",
              "\n",
              "                                                 text  \n",
              "3   The system had a burn in the screen and kept g...  \n",
              "5                         It's good. Happy To Have It  \n",
              "7   i love it thx its perfect. i love it thx its p...  \n",
              "8   Flimsy. Thought I was getting the Orange ones....  \n",
              "11  ... so of course it's the best. Perfect contro...  "
            ],
            "text/html": [
              "\n",
              "  <div id=\"df-ecdd3222-e277-48b1-9b70-2aab529c4139\">\n",
              "    <div class=\"colab-df-container\">\n",
              "      <div>\n",
              "<style scoped>\n",
              "    .dataframe tbody tr th:only-of-type {\n",
              "        vertical-align: middle;\n",
              "    }\n",
              "\n",
              "    .dataframe tbody tr th {\n",
              "        vertical-align: top;\n",
              "    }\n",
              "\n",
              "    .dataframe thead th {\n",
              "        text-align: right;\n",
              "    }\n",
              "</style>\n",
              "<table border=\"1\" class=\"dataframe\">\n",
              "  <thead>\n",
              "    <tr style=\"text-align: right;\">\n",
              "      <th></th>\n",
              "      <th>clean_reviews</th>\n",
              "      <th>text</th>\n",
              "    </tr>\n",
              "  </thead>\n",
              "  <tbody>\n",
              "    <tr>\n",
              "      <th>3</th>\n",
              "      <td>system burn screen kept going usb mode way fix...</td>\n",
              "      <td>The system had a burn in the screen and kept g...</td>\n",
              "    </tr>\n",
              "    <tr>\n",
              "      <th>5</th>\n",
              "      <td>good happy</td>\n",
              "      <td>It's good. Happy To Have It</td>\n",
              "    </tr>\n",
              "    <tr>\n",
              "      <th>7</th>\n",
              "      <td>love thx perfect love thx perfect</td>\n",
              "      <td>i love it thx its perfect. i love it thx its p...</td>\n",
              "    </tr>\n",
              "    <tr>\n",
              "      <th>8</th>\n",
              "      <td>flimsy thought getting orange ones oh know des...</td>\n",
              "      <td>Flimsy. Thought I was getting the Orange ones....</td>\n",
              "    </tr>\n",
              "    <tr>\n",
              "      <th>11</th>\n",
              "      <td>course best perfect controls great original le...</td>\n",
              "      <td>... so of course it's the best. Perfect contro...</td>\n",
              "    </tr>\n",
              "  </tbody>\n",
              "</table>\n",
              "</div>\n",
              "      <button class=\"colab-df-convert\" onclick=\"convertToInteractive('df-ecdd3222-e277-48b1-9b70-2aab529c4139')\"\n",
              "              title=\"Convert this dataframe to an interactive table.\"\n",
              "              style=\"display:none;\">\n",
              "        \n",
              "  <svg xmlns=\"http://www.w3.org/2000/svg\" height=\"24px\"viewBox=\"0 0 24 24\"\n",
              "       width=\"24px\">\n",
              "    <path d=\"M0 0h24v24H0V0z\" fill=\"none\"/>\n",
              "    <path d=\"M18.56 5.44l.94 2.06.94-2.06 2.06-.94-2.06-.94-.94-2.06-.94 2.06-2.06.94zm-11 1L8.5 8.5l.94-2.06 2.06-.94-2.06-.94L8.5 2.5l-.94 2.06-2.06.94zm10 10l.94 2.06.94-2.06 2.06-.94-2.06-.94-.94-2.06-.94 2.06-2.06.94z\"/><path d=\"M17.41 7.96l-1.37-1.37c-.4-.4-.92-.59-1.43-.59-.52 0-1.04.2-1.43.59L10.3 9.45l-7.72 7.72c-.78.78-.78 2.05 0 2.83L4 21.41c.39.39.9.59 1.41.59.51 0 1.02-.2 1.41-.59l7.78-7.78 2.81-2.81c.8-.78.8-2.07 0-2.86zM5.41 20L4 18.59l7.72-7.72 1.47 1.35L5.41 20z\"/>\n",
              "  </svg>\n",
              "      </button>\n",
              "      \n",
              "  <style>\n",
              "    .colab-df-container {\n",
              "      display:flex;\n",
              "      flex-wrap:wrap;\n",
              "      gap: 12px;\n",
              "    }\n",
              "\n",
              "    .colab-df-convert {\n",
              "      background-color: #E8F0FE;\n",
              "      border: none;\n",
              "      border-radius: 50%;\n",
              "      cursor: pointer;\n",
              "      display: none;\n",
              "      fill: #1967D2;\n",
              "      height: 32px;\n",
              "      padding: 0 0 0 0;\n",
              "      width: 32px;\n",
              "    }\n",
              "\n",
              "    .colab-df-convert:hover {\n",
              "      background-color: #E2EBFA;\n",
              "      box-shadow: 0px 1px 2px rgba(60, 64, 67, 0.3), 0px 1px 3px 1px rgba(60, 64, 67, 0.15);\n",
              "      fill: #174EA6;\n",
              "    }\n",
              "\n",
              "    [theme=dark] .colab-df-convert {\n",
              "      background-color: #3B4455;\n",
              "      fill: #D2E3FC;\n",
              "    }\n",
              "\n",
              "    [theme=dark] .colab-df-convert:hover {\n",
              "      background-color: #434B5C;\n",
              "      box-shadow: 0px 1px 3px 1px rgba(0, 0, 0, 0.15);\n",
              "      filter: drop-shadow(0px 1px 2px rgba(0, 0, 0, 0.3));\n",
              "      fill: #FFFFFF;\n",
              "    }\n",
              "  </style>\n",
              "\n",
              "      <script>\n",
              "        const buttonEl =\n",
              "          document.querySelector('#df-ecdd3222-e277-48b1-9b70-2aab529c4139 button.colab-df-convert');\n",
              "        buttonEl.style.display =\n",
              "          google.colab.kernel.accessAllowed ? 'block' : 'none';\n",
              "\n",
              "        async function convertToInteractive(key) {\n",
              "          const element = document.querySelector('#df-ecdd3222-e277-48b1-9b70-2aab529c4139');\n",
              "          const dataTable =\n",
              "            await google.colab.kernel.invokeFunction('convertToInteractive',\n",
              "                                                     [key], {});\n",
              "          if (!dataTable) return;\n",
              "\n",
              "          const docLinkHtml = 'Like what you see? Visit the ' +\n",
              "            '<a target=\"_blank\" href=https://colab.research.google.com/notebooks/data_table.ipynb>data table notebook</a>'\n",
              "            + ' to learn more about interactive tables.';\n",
              "          element.innerHTML = '';\n",
              "          dataTable['output_type'] = 'display_data';\n",
              "          await google.colab.output.renderOutput(dataTable, element);\n",
              "          const docLink = document.createElement('div');\n",
              "          docLink.innerHTML = docLinkHtml;\n",
              "          element.appendChild(docLink);\n",
              "        }\n",
              "      </script>\n",
              "    </div>\n",
              "  </div>\n",
              "  "
            ]
          },
          "metadata": {},
          "execution_count": 120
        }
      ],
      "source": [
        "processed_data[['clean_reviews','text']].head()"
      ]
    },
    {
      "cell_type": "code",
      "execution_count": 121,
      "metadata": {
        "id": "-lr4saW93_PU"
      },
      "outputs": [],
      "source": [
        "def get_wordnet_pos(word):\n",
        "  tag = nltk.pos_tag([word])[0][1][0].upper()\n",
        "  tag_dict = {\"J\": wordnet.ADJ,\n",
        "                \"N\": wordnet.NOUN,\n",
        "                \"V\": wordnet.VERB,\n",
        "                \"R\": wordnet.ADV}\n",
        "\n",
        "  return tag_dict.get(tag, wordnet.NOUN)\n",
        "\n",
        "lemmatizer = nltk.stem.WordNetLemmatizer()\n",
        "def get_lemmatize(sent):\n",
        "  return \" \".join([lemmatizer.lemmatize(w, get_wordnet_pos(w)) for w in nltk.word_tokenize(sent)])"
      ]
    },
    {
      "cell_type": "code",
      "execution_count": 122,
      "metadata": {
        "id": "XHzNpMcH4Wq0"
      },
      "outputs": [],
      "source": [
        "processed_data['review_cleaned_lemmatized'] = processed_data['clean_reviews'].apply(get_lemmatize)"
      ]
    },
    {
      "cell_type": "markdown",
      "metadata": {
        "id": "hqsi9OdnDiBi"
      },
      "source": [
        "### **Splitting data to test & train sets**"
      ]
    },
    {
      "cell_type": "code",
      "execution_count": 123,
      "metadata": {
        "id": "fF9sxwIJ6j_9"
      },
      "outputs": [],
      "source": [
        "reviews = processed_data['review_cleaned_lemmatized']\n",
        "\n",
        "label_encoder = preprocessing.LabelEncoder()\n",
        " \n",
        "processed_data['product_category_encoded']= label_encoder.fit_transform(processed_data['product_category'])\n",
        "\n",
        "category_labels = processed_data['product_category_encoded']\n",
        "reviews_train,reviews_test,category_train,category_test = train_test_split(reviews,category_labels, test_size=0.2,random_state=42, shuffle=True)\n"
      ]
    },
    {
      "cell_type": "code",
      "source": [
        "df_five = processed_data[(processed_data['review_score']==5)]\n",
        "df_four = processed_data[(processed_data['review_score']==4)] \n",
        "df_three = processed_data[(processed_data['review_score']==3)] \n",
        "df_two = processed_data[(processed_data['review_score']==2)] \n",
        "df_one = processed_data[(processed_data['review_score']==1)]\n",
        "\n",
        "\n",
        "\n",
        "df_five_undersampled = resample(df_five,\n",
        "                              replace=True,\n",
        "                              n_samples= 837,\n",
        "                              random_state=42)  # reproducible results\n",
        "df_four_undersampled = resample(df_four,\n",
        "                              replace=True,\n",
        "                              n_samples= 837,\n",
        "                              random_state=42)\n",
        "df_three_undersampled = resample(df_three,\n",
        "                              replace=True,\n",
        "                              n_samples= 837,\n",
        "                              random_state=42)\n",
        "df_one_undersampled = resample(df_one,\n",
        "                              replace=True,\n",
        "                              n_samples= 837,\n",
        "                              random_state=42)\n",
        "# Combine majority class with upsampled minority class\n",
        "df_undersampled = pd.concat([df_one_undersampled, df_three_undersampled,df_five_undersampled,df_four_undersampled, df_two])\n",
        "print(df_undersampled['review_score'].value_counts())\n",
        "\n",
        "rating_labels = df_undersampled['review_score']\n",
        "reviews_train_star,reviews_test_star,rating_train,rating_test = train_test_split(df_undersampled['review_cleaned_lemmatized'],rating_labels, test_size=0.20,random_state=42, shuffle=True)\n"
      ],
      "metadata": {
        "colab": {
          "base_uri": "https://localhost:8080/"
        },
        "id": "V87ZfK4yXmzB",
        "outputId": "030c5f58-23ff-40d5-ae30-c0dd3c302a8c"
      },
      "execution_count": 124,
      "outputs": [
        {
          "output_type": "stream",
          "name": "stdout",
          "text": [
            "1.0    837\n",
            "3.0    837\n",
            "5.0    837\n",
            "4.0    837\n",
            "2.0    837\n",
            "Name: review_score, dtype: int64\n"
          ]
        }
      ]
    },
    {
      "cell_type": "markdown",
      "metadata": {
        "id": "u6loSbmb7_-g"
      },
      "source": [
        "# **1st Method (Logistic Regression)**"
      ]
    },
    {
      "cell_type": "markdown",
      "metadata": {
        "id": "LI18kbMZuOuD"
      },
      "source": [
        "### **Creating a Pipeline**"
      ]
    },
    {
      "cell_type": "code",
      "execution_count": 125,
      "metadata": {
        "id": "Ee67CpiZa7ww"
      },
      "outputs": [],
      "source": [
        "logreg_rating = Pipeline([('vect', CountVectorizer(ngram_range=(1, 2))),\n",
        "                ('tfidf', TfidfTransformer()),\n",
        "                ('clf', LogisticRegression( max_iter=500,multi_class='multinomial', solver='lbfgs')),\n",
        "               ])\n",
        "\n",
        "logreg_category = Pipeline([('vect', CountVectorizer(ngram_range=(1, 2))),\n",
        "                ('tfidf', TfidfTransformer()),\n",
        "                ('clf', LogisticRegression(C=1, max_iter=500, solver='saga')),\n",
        "               ])"
      ]
    },
    {
      "cell_type": "markdown",
      "metadata": {
        "id": "DCqcF7b-uY0q"
      },
      "source": [
        "## **Product Category Prediction**"
      ]
    },
    {
      "cell_type": "markdown",
      "metadata": {
        "id": "S52tihSItz-Z"
      },
      "source": [
        "### ***Training Set***"
      ]
    },
    {
      "cell_type": "code",
      "execution_count": 126,
      "metadata": {
        "colab": {
          "base_uri": "https://localhost:8080/",
          "height": 369
        },
        "id": "XavtjIKfbJBE",
        "outputId": "1a44ed91-38c4-4051-982b-9f2c6d7d7bd1"
      },
      "outputs": [
        {
          "output_type": "stream",
          "name": "stdout",
          "text": [
            "Accuracy: 0.967, Precision: 0.974, Recall: 0.971, F1 Score: 0.972\n"
          ]
        },
        {
          "output_type": "stream",
          "name": "stderr",
          "text": [
            "/usr/local/lib/python3.7/dist-packages/sklearn/utils/deprecation.py:87: FutureWarning: Function plot_confusion_matrix is deprecated; Function `plot_confusion_matrix` is deprecated in 1.0 and will be removed in 1.2. Use one of the class methods: ConfusionMatrixDisplay.from_predictions or ConfusionMatrixDisplay.from_estimator.\n",
            "  warnings.warn(msg, category=FutureWarning)\n"
          ]
        },
        {
          "output_type": "execute_result",
          "data": {
            "text/plain": [
              "<sklearn.metrics._plot.confusion_matrix.ConfusionMatrixDisplay at 0x7f15a6e464d0>"
            ]
          },
          "metadata": {},
          "execution_count": 126
        },
        {
          "output_type": "display_data",
          "data": {
            "text/plain": [
              "<Figure size 432x288 with 2 Axes>"
            ],
            "image/png": "[encoded data removed]"
          },
          "metadata": {
            "needs_background": "light"
          }
        }
      ],
      "source": [
        "logistic_model_category = logreg_category.fit(reviews_train,category_train)\n",
        "category_prediction_train = logistic_model_category.predict(reviews_train)\n",
        "print('Accuracy: {:.3f}, Precision: {:.3f}, Recall: {:.3f}, F1 Score: {:.3f}'.format(accuracy_score(category_train, category_prediction_train), \n",
        "                                                                                        precision_score(category_train, category_prediction_train,average=\"binary\"), \n",
        "                                                                                        recall_score(category_train, category_prediction_train,average=\"binary\"), \n",
        "                                                                                        f1_score(category_train, category_prediction_train,average=\"binary\")))\n",
        "plot_confusion_matrix(logistic_model_category,reviews_train,category_train)"
      ]
    },
    {
      "cell_type": "markdown",
      "metadata": {
        "id": "U6kJgX1Pt4Gk"
      },
      "source": [
        "### ***Testing Set***"
      ]
    },
    {
      "cell_type": "code",
      "execution_count": 127,
      "metadata": {
        "id": "bijhrY1DDSym"
      },
      "outputs": [],
      "source": [
        "category_prediction_test = logistic_model_category.predict(reviews_test)"
      ]
    },
    {
      "cell_type": "markdown",
      "source": [
        "### **Confusion Matrix**"
      ],
      "metadata": {
        "id": "ExuE3eZ-zM3i"
      }
    },
    {
      "cell_type": "code",
      "source": [
        "plot_confusion_matrix(logistic_model_category,reviews_test,category_test)"
      ],
      "metadata": {
        "colab": {
          "base_uri": "https://localhost:8080/",
          "height": 351
        },
        "id": "6xBm-XKmzKhZ",
        "outputId": "0561f6ed-05fc-4761-d3aa-7049dd0d192c"
      },
      "execution_count": 128,
      "outputs": [
        {
          "output_type": "stream",
          "name": "stderr",
          "text": [
            "/usr/local/lib/python3.7/dist-packages/sklearn/utils/deprecation.py:87: FutureWarning: Function plot_confusion_matrix is deprecated; Function `plot_confusion_matrix` is deprecated in 1.0 and will be removed in 1.2. Use one of the class methods: ConfusionMatrixDisplay.from_predictions or ConfusionMatrixDisplay.from_estimator.\n",
            "  warnings.warn(msg, category=FutureWarning)\n"
          ]
        },
        {
          "output_type": "execute_result",
          "data": {
            "text/plain": [
              "<sklearn.metrics._plot.confusion_matrix.ConfusionMatrixDisplay at 0x7f19160f1890>"
            ]
          },
          "metadata": {},
          "execution_count": 128
        },
        {
          "output_type": "display_data",
          "data": {
            "text/plain": [
              "<Figure size 432x288 with 2 Axes>"
            ],
            "image/png": "[encoded data removed]"
          },
          "metadata": {
            "needs_background": "light"
          }
        }
      ]
    },
    {
      "cell_type": "markdown",
      "source": [
        "### **Classification Report**"
      ],
      "metadata": {
        "id": "4bGRmzNCzUiM"
      }
    },
    {
      "cell_type": "code",
      "execution_count": 129,
      "metadata": {
        "id": "YpU-g-t6dzkU",
        "colab": {
          "base_uri": "https://localhost:8080/"
        },
        "outputId": "f4a38c45-9ce7-427b-ee9b-41012f186810"
      },
      "outputs": [
        {
          "output_type": "stream",
          "name": "stdout",
          "text": [
            "              precision    recall  f1-score   support\n",
            "\n",
            "           0       0.91      0.88      0.90      1674\n",
            "           1       0.92      0.94      0.93      2534\n",
            "\n",
            "    accuracy                           0.92      4208\n",
            "   macro avg       0.92      0.91      0.91      4208\n",
            "weighted avg       0.92      0.92      0.92      4208\n",
            "\n"
          ]
        }
      ],
      "source": [
        "print(classification_report(category_test,category_prediction_test))"
      ]
    },
    {
      "cell_type": "markdown",
      "source": [
        "### **ROC Curve**"
      ],
      "metadata": {
        "id": "fj9hSxJk746P"
      }
    },
    {
      "cell_type": "code",
      "source": [
        "from sklearn.metrics import roc_curve\n",
        "from sklearn.metrics import roc_auc_score\n",
        "\n",
        "def roc_classifier(grid, X_train, y_train, X_test, y_test):\n",
        "    # predict probabilities\n",
        "    lr_probs_train = grid.predict_proba(X_train)\n",
        "    lr_probs_test = grid.predict_proba(X_test)\n",
        "    # keep probabilities for the positive outcome only\n",
        "    lr_probs_train = lr_probs_train[:, 1]\n",
        "    lr_probs_test = lr_probs_test[:, 1]\n",
        "\n",
        "    print('ROC AUC (Training)={:.3f}'.format(roc_auc_score(y_train, lr_probs_train,multi_class='ovo')))\n",
        "    print('ROC AUC (Testing)={:.3f}'.format(roc_auc_score(y_test, lr_probs_test,multi_class='ovo')))\n",
        "\n",
        "    # compute false positive and true positive rates\n",
        "    lr_fpr_train, lr_tpr_train, _ = roc_curve(y_train, lr_probs_train)\n",
        "    lr_fpr_test, lr_tpr_test, _ = roc_curve(y_test, lr_probs_test)\n",
        "\n",
        "    # plot the roc curve for the training set\n",
        "    _ = plt.figure(figsize=(15, 5))\n",
        "    ax1 =plt.subplot(121)\n",
        "    _ = ax1.plot(lr_fpr_train, lr_tpr_train, marker='x')\n",
        "    _ = ax1.plot([0,1], [0, 1], 'gray', linestyle=':', marker='')\n",
        "    _ = ax1.set_title('Receiver Operating Characteristics (ROC) - Training')\n",
        "    _ = ax1.set_xlabel('False Positive Rate')\n",
        "    _ = ax1.set_ylabel('True Positive Rate')\n",
        "\n",
        "    # plot the roc curve for the testing set\n",
        "    ax2 = plt.subplot(122)\n",
        "    _ = ax2.plot(lr_fpr_test, lr_tpr_test, marker='x')\n",
        "    _ = ax2.plot([0,1], [0, 1], 'gray', linestyle=':', marker='')\n",
        "    _ = ax2.set_title('Receiver Operating Characteristics (ROC) - Testing')\n",
        "    _ = ax2.set_xlabel('False Positive Rate')\n",
        "    _ = ax2.set_ylabel('True Positive Rate')\n",
        "\n",
        "    return (lr_probs_train, lr_fpr_train, lr_tpr_train, \n",
        "            lr_probs_test,  lr_fpr_test, lr_tpr_test)\n"
      ],
      "metadata": {
        "id": "p_gBeSN55029"
      },
      "execution_count": 130,
      "outputs": []
    },
    {
      "cell_type": "markdown",
      "source": [
        "### **ROC Curve for Product Category**"
      ],
      "metadata": {
        "id": "QwJYwn6X8dL9"
      }
    },
    {
      "cell_type": "code",
      "source": [
        "lr_probs_train, lr_fpr_train, lr_tpr_train, lr_probs_test, lr_fpr_test, lr_tpr_test = roc_classifier(\n",
        "                                                                    logistic_model_category, reviews_train, category_train, reviews_test, category_test)"
      ],
      "metadata": {
        "id": "1Fyw-E8E8KLi",
        "colab": {
          "base_uri": "https://localhost:8080/",
          "height": 385
        },
        "outputId": "b16abdb9-8e79-45c9-b000-7604a22acbac"
      },
      "execution_count": 131,
      "outputs": [
        {
          "output_type": "stream",
          "name": "stdout",
          "text": [
            "ROC AUC (Training)=0.993\n",
            "ROC AUC (Testing)=0.976\n"
          ]
        },
        {
          "output_type": "display_data",
          "data": {
            "text/plain": [
              "<Figure size 1080x360 with 2 Axes>"
            ],
            "image/png": "[encoded data removed]"
          },
          "metadata": {
            "needs_background": "light"
          }
        }
      ]
    },
    {
      "cell_type": "markdown",
      "metadata": {
        "id": "5LeJqRLvuvxb"
      },
      "source": [
        "## **Star Rating Prediction**"
      ]
    },
    {
      "cell_type": "code",
      "execution_count": 132,
      "metadata": {
        "id": "7ydqW9ubLR_C"
      },
      "outputs": [],
      "source": [
        "logistic_model_rating = logreg_rating.fit(reviews_train_star, rating_train)"
      ]
    },
    {
      "cell_type": "markdown",
      "metadata": {
        "id": "hMkaZWL-u4RG"
      },
      "source": [
        "### ***Training Set***"
      ]
    },
    {
      "cell_type": "code",
      "execution_count": 133,
      "metadata": {
        "id": "TX5dTPxjgQbz"
      },
      "outputs": [],
      "source": [
        "rating_prediction_train = logistic_model_rating.predict(reviews_train_star)"
      ]
    },
    {
      "cell_type": "markdown",
      "source": [
        "### **Confusion Matrix**"
      ],
      "metadata": {
        "id": "TerT_gLuzorN"
      }
    },
    {
      "cell_type": "code",
      "source": [
        "plot_confusion_matrix(logistic_model_rating,reviews_train_star,rating_train,xticks_rotation=40)"
      ],
      "metadata": {
        "colab": {
          "base_uri": "https://localhost:8080/",
          "height": 359
        },
        "id": "ehNukyrNzemX",
        "outputId": "bb0d5280-1d21-44df-8630-0967cfcd0805"
      },
      "execution_count": 134,
      "outputs": [
        {
          "output_type": "stream",
          "name": "stderr",
          "text": [
            "/usr/local/lib/python3.7/dist-packages/sklearn/utils/deprecation.py:87: FutureWarning: Function plot_confusion_matrix is deprecated; Function `plot_confusion_matrix` is deprecated in 1.0 and will be removed in 1.2. Use one of the class methods: ConfusionMatrixDisplay.from_predictions or ConfusionMatrixDisplay.from_estimator.\n",
            "  warnings.warn(msg, category=FutureWarning)\n"
          ]
        },
        {
          "output_type": "execute_result",
          "data": {
            "text/plain": [
              "<sklearn.metrics._plot.confusion_matrix.ConfusionMatrixDisplay at 0x7f191fe36410>"
            ]
          },
          "metadata": {},
          "execution_count": 134
        },
        {
          "output_type": "display_data",
          "data": {
            "text/plain": [
              "<Figure size 432x288 with 2 Axes>"
            ],
            "image/png": "[encoded data removed]"
          },
          "metadata": {
            "needs_background": "light"
          }
        }
      ]
    },
    {
      "cell_type": "markdown",
      "source": [
        "### **Classification Report**"
      ],
      "metadata": {
        "id": "YyyNNVuMztT0"
      }
    },
    {
      "cell_type": "code",
      "source": [
        "print(classification_report(rating_prediction_train,rating_train))"
      ],
      "metadata": {
        "colab": {
          "base_uri": "https://localhost:8080/"
        },
        "id": "1Ihq0YiIzifs",
        "outputId": "680a2a18-f3ae-41cd-ecd5-a7530e056f7f"
      },
      "execution_count": 135,
      "outputs": [
        {
          "output_type": "stream",
          "name": "stdout",
          "text": [
            "              precision    recall  f1-score   support\n",
            "\n",
            "         1.0       0.98      0.97      0.98       651\n",
            "         2.0       0.97      0.99      0.98       667\n",
            "         3.0       0.97      0.97      0.97       653\n",
            "         4.0       0.97      0.98      0.97       682\n",
            "         5.0       0.99      0.95      0.97       695\n",
            "\n",
            "    accuracy                           0.97      3348\n",
            "   macro avg       0.97      0.97      0.97      3348\n",
            "weighted avg       0.97      0.97      0.97      3348\n",
            "\n"
          ]
        }
      ]
    },
    {
      "cell_type": "markdown",
      "metadata": {
        "id": "soEL_JN5wkCT"
      },
      "source": [
        "### ***Testing Set***"
      ]
    },
    {
      "cell_type": "code",
      "execution_count": 136,
      "metadata": {
        "id": "6YHK14QwDTFC",
        "colab": {
          "base_uri": "https://localhost:8080/",
          "height": 567
        },
        "outputId": "83834fcd-6abd-4dcf-c5a9-186d67beb139"
      },
      "outputs": [
        {
          "output_type": "stream",
          "name": "stdout",
          "text": [
            "Accuracy: 0.56, Precision: 0.56, Recall: 0.56, F1 Score: 0.56\n",
            "              precision    recall  f1-score   support\n",
            "\n",
            "         1.0       0.69      0.75      0.72       175\n",
            "         2.0       0.46      0.41      0.43       177\n",
            "         3.0       0.51      0.59      0.55       157\n",
            "         4.0       0.52      0.46      0.49       163\n",
            "         5.0       0.58      0.59      0.59       165\n",
            "\n",
            "    accuracy                           0.56       837\n",
            "   macro avg       0.55      0.56      0.56       837\n",
            "weighted avg       0.56      0.56      0.56       837\n",
            "\n"
          ]
        },
        {
          "output_type": "stream",
          "name": "stderr",
          "text": [
            "/usr/local/lib/python3.7/dist-packages/sklearn/utils/deprecation.py:87: FutureWarning: Function plot_confusion_matrix is deprecated; Function `plot_confusion_matrix` is deprecated in 1.0 and will be removed in 1.2. Use one of the class methods: ConfusionMatrixDisplay.from_predictions or ConfusionMatrixDisplay.from_estimator.\n",
            "  warnings.warn(msg, category=FutureWarning)\n"
          ]
        },
        {
          "output_type": "display_data",
          "data": {
            "text/plain": [
              "<Figure size 432x288 with 2 Axes>"
            ],
            "image/png": "[encoded data removed]"
          },
          "metadata": {
            "needs_background": "light"
          }
        }
      ],
      "source": [
        "rating_prediction_test = logistic_model_rating.predict(reviews_test_star)\n",
        "\n",
        "print('Accuracy: {:.2f}, Precision: {:.2f}, Recall: {:.2f}, F1 Score: {:.2f}'.format(accuracy_score(rating_test, rating_prediction_test), \n",
        "                                                                                        precision_score(rating_test, rating_prediction_test,average='micro'), \n",
        "                                                                                        recall_score(rating_test, rating_prediction_test,average='micro'), \n",
        "                                                                                        f1_score(rating_test, rating_prediction_test,average='micro')))\n",
        "plot_confusion_matrix(logistic_model_rating,reviews_test_star,rating_test,xticks_rotation=40)\n",
        "\n",
        "print(classification_report(rating_prediction_test,rating_test))"
      ]
    },
    {
      "cell_type": "markdown",
      "source": [
        "## **Evaluation**"
      ],
      "metadata": {
        "id": "R7MqLB3lYCAG"
      }
    },
    {
      "cell_type": "code",
      "source": [
        "def get_models():\n",
        "\tmodels = dict()\n",
        "\tfor p in [0.01, 0.1, 1.0]:\n",
        "\t\t# create name for model\n",
        "\t\tkey = '%.4f' % p\n",
        "\t\t# turn off penalty in some cases\n",
        "\t\tif p == 0.0:\n",
        "\t\t\t# no penalty in this case\n",
        "\t\t\tmodels[key] = Pipeline([('vect', CountVectorizer(ngram_range=(1, 2))),\n",
        "                ('tfidf', TfidfTransformer()),\n",
        "                ('clf', LogisticRegression(multi_class='multinomial', max_iter=500, solver='lbfgs', penalty='none')),\n",
        "               ])\n",
        "\t\telse:\n",
        "\t\t\tmodels[key] = Pipeline([('vect', CountVectorizer(ngram_range=(1, 2))),\n",
        "                ('tfidf', TfidfTransformer()),\n",
        "                ('clf', LogisticRegression(multi_class='multinomial', max_iter=500, solver='lbfgs', penalty='l2', C=p)),\n",
        "               ])\n",
        "\treturn models\n"
      ],
      "metadata": {
        "id": "9gtB1ahCYGWj"
      },
      "execution_count": 170,
      "outputs": []
    },
    {
      "cell_type": "code",
      "source": [
        "def evaluate_model(model, X, y):\n",
        "\t# define the evaluation procedure\n",
        "\tcv = RepeatedStratifiedKFold(n_splits=10, n_repeats=3, random_state=1)\n",
        "\t# evaluate the model\n",
        "\tscores = cross_val_score(model, X, y, scoring='accuracy', cv=cv, n_jobs=-1)\n",
        "\treturn scores"
      ],
      "metadata": {
        "id": "ZSwOPK9EYMcc"
      },
      "execution_count": 171,
      "outputs": []
    },
    {
      "cell_type": "code",
      "source": [
        "models = get_models()\n",
        "results, names = list(), list()\n",
        "for name, model in models.items():\n",
        "\t# evaluate the model and collect the scores\n",
        "\tscores = evaluate_model(model, reviews_test_star,rating_test)\n",
        "\t# store the results\n",
        "\tresults.append(scores)\n",
        "\tnames.append(name)\n",
        " "
      ],
      "metadata": {
        "id": "Zn9QmbKtYYhu"
      },
      "execution_count": 172,
      "outputs": []
    },
    {
      "cell_type": "code",
      "source": [
        "plt.figure(figsize=(8, 8))\n",
        "# data[selected].boxplot()\n",
        "plt.boxplot(results, labels=names, showmeans=True)\n",
        "plt.xlabel('Accuracy', fontsize=18)\n",
        "plt.ylabel('Value of C', fontsize=18)\n",
        "plt.show()"
      ],
      "metadata": {
        "colab": {
          "base_uri": "https://localhost:8080/",
          "height": 505
        },
        "id": "bJAvp561atK5",
        "outputId": "5485de61-ae19-437f-94ad-b98902b7269b"
      },
      "execution_count": 174,
      "outputs": [
        {
          "output_type": "display_data",
          "data": {
            "text/plain": [
              "<Figure size 576x576 with 1 Axes>"
            ],
            "image/png": "[encoded data removed]"
          },
          "metadata": {
            "needs_background": "light"
          }
        }
      ]
    },
    {
      "cell_type": "markdown",
      "source": [
        "Evaluatin"
      ],
      "metadata": {
        "id": "pr6nIuQhtF5O"
      }
    },
    {
      "cell_type": "code",
      "source": [
        "X_train, X_test, y_train, y_test=train_test_split(data_filtered['text'], data_filtered['review_score'].values, test_size=0.2)\n",
        "grid=[{'penalty' : ['l1', 'l2', 'elasticnet', 'none'],\n",
        "       'C' : np.logspace(-4, 4,20),\n",
        "       'solver':['liblinear'],\n",
        "       'max_iter' : [10,100, 1000,2500, 5000]\n",
        "    }]\n",
        "    \n",
        "vectorizer = CountVectorizer()\n",
        "vectorizer.fit(X_train)\n",
        "\n",
        "X_train = vectorizer.transform(X_train)\n",
        "X_test = vectorizer.transform(X_test)\n",
        "      \n",
        "logreg =  LogisticRegression()\n",
        "\n",
        "lr = GridSearchCV(logreg, param_grid = grid, cv = 5, scoring='accuracy', verbose = 1, n_jobs = -1)\n",
        "best_model = lr.fit(X_train, y_train)\n",
        "\n",
        "print(best_model.best_estimator_)\n",
        "print(best_model.best_score_)\n",
        "\n",
        "y_pred_grid = best_model.predict(y_test)\n",
        "print(confusion_matrix(y_test, y_pred_grid))\n",
        "print(classification_report(y_test, y_pred_grid))\n",
        "print(accuracy_score(y_test, y_pred_grid))\n",
        "\n",
        "#LogisticRegression(C=1, max_iter=500))\n",
        "#LogisticRegression(C=1, max_iter=500, solver='saga')"
      ],
      "metadata": {
        "colab": {
          "base_uri": "https://localhost:8080/"
        },
        "id": "RghdAvn_rieD",
        "outputId": "172ef358-e35d-4579-d6f2-88d5e9b6bbae"
      },
      "execution_count": null,
      "outputs": [
        {
          "output_type": "stream",
          "name": "stdout",
          "text": [
            "Fitting 5 folds for each of 400 candidates, totalling 2000 fits\n"
          ]
        }
      ]
    },
    {
      "cell_type": "markdown",
      "metadata": {
        "id": "dhq6J2Ej6_jn"
      },
      "source": [
        "# **Evaluation of the Models**"
      ]
    },
    {
      "cell_type": "code",
      "execution_count": null,
      "metadata": {
        "id": "V_rKqjGM81r6"
      },
      "outputs": [],
      "source": [
        "def predict_Logisitic_Model(evaluation_data):\n",
        "  category_prediction_v = logistic_model_category.predict(evaluation_data['review_cleaned_lemmatized'])\n",
        "  rating_prediction_v = logistic_model_rating.predict(evaluation_data['review_cleaned_lemmatized'])\n",
        "  print(\"Logistic Regression Model: \")\n",
        "  print(\"/n Predicted Rating: \")\n",
        "  print(rating_prediction_v)\n",
        "  print(\" Actual Rating: \")\n",
        "  print(evaluation_data['review_score'].values)\n",
        "  print(\"/n Predicted Category: \")\n",
        "  print(category_prediction_v)\n",
        "  print(\" Actual Category: \")\n",
        "  print(evaluation_data['product_category_encoded'].values)\n",
        "  print(\"Accuracy for Categories: \"+ str((accuracy_score(evaluation_data['product_category_encoded'],category_prediction_v))*100))\n",
        "  print(\"Accuracy for Ratings: \"+ str((accuracy_score(evaluation_data['review_score'],rating_prediction_v)*100)))"
      ]
    },
    {
      "cell_type": "code",
      "execution_count": null,
      "metadata": {
        "id": "2i-gvuId6-yQ"
      },
      "outputs": [],
      "source": [
        "evaluation_data = reviews_test_star.sample(10)\n",
        "index = evaluation_data.index\n",
        "test_data =pd.DataFrame()\n",
        "for i in index:\n",
        "  test_data = test_data.append(df_undersampled[df_undersampled.index == i])\n",
        "  test_data = test_data.drop_duplicates()\n",
        "predict_Logisitic_Model(test_data)"
      ]
    },
    {
      "cell_type": "markdown",
      "metadata": {
        "id": "kdN5fWBDy1DB"
      },
      "source": [
        "# **Bert**"
      ]
    },
    {
      "cell_type": "markdown",
      "source": [
        "## **Star Rating Prediction**"
      ],
      "metadata": {
        "id": "geJC2ERBNEqG"
      }
    },
    {
      "cell_type": "code",
      "execution_count": null,
      "metadata": {
        "id": "7uIZgLSl1iIY"
      },
      "outputs": [],
      "source": [
        "label_encoder = preprocessing.LabelEncoder()\n",
        "\n",
        "df_five = data_filtered[(data_filtered['review_score']==5)]\n",
        "df_four = data_filtered[(data_filtered['review_score']==4)] \n",
        "df_three = data_filtered[(data_filtered['review_score']==3)] \n",
        "df_two = data_filtered[(data_filtered['review_score']==2)] \n",
        "df_one = data_filtered[(data_filtered['review_score']==1)]\n",
        "\n",
        "df_five_undersampled = resample(df_five,\n",
        "                              replace=True,\n",
        "                              n_samples= 837,\n",
        "                              random_state=42)  # reproducible results\n",
        "df_four_undersampled = resample(df_four,\n",
        "                              replace=True,\n",
        "                              n_samples= 837,\n",
        "                              random_state=42)\n",
        "df_three_undersampled = resample(df_three,\n",
        "                              replace=True,\n",
        "                              n_samples= 837,\n",
        "                              random_state=42)\n",
        "df_one_undersampled = resample(df_one,\n",
        "                              replace=True,\n",
        "                              n_samples= 837,\n",
        "                              random_state=42)\n",
        "# Combine majority class with upsampled minority class\n",
        "df_undersampled = pd.concat([df_one_undersampled, df_three_undersampled,df_five_undersampled,df_four_undersampled, df_two])\n",
        "df_undersampled['review_score'].value_counts()\n",
        "df_undersampled['review_score_encoded']= label_encoder.fit_transform(df_undersampled['review_score'])"
      ]
    },
    {
      "cell_type": "code",
      "source": [
        "x_star_train, x_star_test, y_star_train, y_star_test = train_test_split(df_undersampled['text'],df_undersampled['review_score_encoded'], test_size = 0.2)"
      ],
      "metadata": {
        "id": "GSQvM-NBNMwM"
      },
      "execution_count": null,
      "outputs": []
    },
    {
      "cell_type": "code",
      "source": [
        "model_args_star = ClassificationArgs()\n",
        "model_args_star.num_train_epochs = 10\n",
        "model_args_star.learning_rate = 1e-4\n",
        "model_args_star.train_batch_size = 32\n",
        "model_args_star.eval_batch_size = 32\n",
        "model_args_star.overwrite_output_dir = True\n",
        "model_args_star.optimizer = 'AdamW'\n",
        "model_args_star.do_lower_case = True"
      ],
      "metadata": {
        "id": "pWRZ0-coNdlR"
      },
      "execution_count": null,
      "outputs": []
    },
    {
      "cell_type": "code",
      "source": [
        "bert_star_model = ClassificationModel(\"bert\", \"bert-base-cased\",num_labels = 5,args=model_args_star,use_cuda=True)"
      ],
      "metadata": {
        "id": "p1Vt3sraNyMD"
      },
      "execution_count": null,
      "outputs": []
    },
    {
      "cell_type": "code",
      "source": [
        "train_df_star = pd.DataFrame({\"text\":x_star_train, \"labels\":y_star_train})\n",
        "eval_df_star = pd.DataFrame({\"text\":x_star_test, \"labels\":y_star_test})"
      ],
      "metadata": {
        "id": "-EbjgizfdBdq"
      },
      "execution_count": null,
      "outputs": []
    },
    {
      "cell_type": "code",
      "source": [
        "bert_star_model.train_model(train_df_star, acc=accuracy_score)"
      ],
      "metadata": {
        "id": "wGCLjcgldO18"
      },
      "execution_count": null,
      "outputs": []
    },
    {
      "cell_type": "code",
      "source": [
        "result_star, model_outputs_star, wrong_predictions_star = bert_star_model.eval_model(eval_df_star, acc=accuracy_score)"
      ],
      "metadata": {
        "id": "XzjVQvi2sCyE"
      },
      "execution_count": null,
      "outputs": []
    },
    {
      "cell_type": "code",
      "source": [
        "result_star"
      ],
      "metadata": {
        "id": "N3GnMXlCtf1j"
      },
      "execution_count": null,
      "outputs": []
    },
    {
      "cell_type": "code",
      "source": [
        "x_star_testval = np.array(x_star_test.values)\n",
        "listoftestvalues_star = x_star_testval.tolist()\n",
        "preds_star, model_ouputs_star = bert_star_model.predict(listoftestvalues_star)\n",
        "preds_star,model_ouputs_star"
      ],
      "metadata": {
        "id": "BgHXhgC3ttGG"
      },
      "execution_count": null,
      "outputs": []
    },
    {
      "cell_type": "code",
      "source": [
        "accuracy_score(y_star_test,preds_star)"
      ],
      "metadata": {
        "id": "VWE2u0CidgQ4"
      },
      "execution_count": null,
      "outputs": []
    },
    {
      "cell_type": "code",
      "source": [
        "def predict_rating(review_text):\n",
        "  output_rating = bert_star_model.predict([review_text])\n",
        "  if (output_rating[0] == 0):\n",
        "    rating = '1'\n",
        "  elif(output_rating[0] == 1):\n",
        "    rating ='2'\n",
        "  elif(output_rating[0] == 2):\n",
        "    rating = '3'\n",
        "  elif(output_rating[0] == 3):\n",
        "    rating = '4'\n",
        "  else:\n",
        "    rating = '5'\n",
        "  print(rating)\n",
        "\n",
        "predict_rating(\"There’s dinks and paint marks on it, but let’s face it, it’s very cheap for what it is. Once the nylon strings settle (you’ll have to keep tuning it for a few days), it’s perfectly fine. I have nothing to complain about at this price point. If I wanted a proper instrument, I wouldn’t be buying it from Amazon.\")"
      ],
      "metadata": {
        "id": "I4Z04I-Pt97g"
      },
      "execution_count": null,
      "outputs": []
    },
    {
      "cell_type": "markdown",
      "source": [
        "## **Product Category Prediction**"
      ],
      "metadata": {
        "id": "--cz-ytmM92D"
      }
    },
    {
      "cell_type": "code",
      "execution_count": null,
      "metadata": {
        "id": "GuVJ4OwM0E2k"
      },
      "outputs": [],
      "source": [
        "label_encoder = preprocessing.LabelEncoder()\n",
        " \n",
        "data_filtered['product_category_encoded']= label_encoder.fit_transform(data_filtered['product_category'])\n",
        "\n",
        "df_video = data_filtered[(data_filtered['product_category_encoded']==1)]\n",
        "df_music = data_filtered[(data_filtered['product_category_encoded']==0)]\n",
        "df_minority_upsampled = resample(df_music, \n",
        "                                 replace=True,\n",
        "                                 n_samples= 12476,\n",
        "                                 random_state=42) \n",
        "\n",
        "\n",
        "df_oversampled = pd.concat([df_minority_upsampled, df_video])\n",
        "df_oversampled['product_category_encoded'].value_counts()"
      ]
    },
    {
      "cell_type": "code",
      "execution_count": null,
      "metadata": {
        "id": "xXXRy0Wy3nLI"
      },
      "outputs": [],
      "source": [
        "x_train, x_test, y_train, y_test = train_test_split(df_oversampled['text'],df_oversampled['product_category_encoded'], test_size = 0.2)"
      ]
    },
    {
      "cell_type": "code",
      "execution_count": null,
      "metadata": {
        "id": "ORE1kNau3-9V"
      },
      "outputs": [],
      "source": [
        "model_args = ClassificationArgs()\n",
        "model_args.num_train_epochs = 5\n",
        "model_args.learning_rate = 1e-4\n",
        "model_args.train_batch_size = 32\n",
        "model_args.eval_batch_size = 32\n",
        "model_args.overwrite_output_dir = True"
      ]
    },
    {
      "cell_type": "code",
      "execution_count": null,
      "metadata": {
        "id": "JGPLBgO24L7C"
      },
      "outputs": [],
      "source": [
        "bert_model = ClassificationModel(\"bert\", \"bert-base-cased\",num_labels = 2,args=model_args,use_cuda=True)"
      ]
    },
    {
      "cell_type": "code",
      "execution_count": null,
      "metadata": {
        "id": "ciePneIu4l1B"
      },
      "outputs": [],
      "source": [
        "train_df = pd.DataFrame({\"text\":x_train, \"labels\":y_train})\n",
        "eval_df = pd.DataFrame({\"text\":x_test, \"labels\":y_test})"
      ]
    },
    {
      "cell_type": "code",
      "execution_count": null,
      "metadata": {
        "id": "eNl1OYMK4tIC"
      },
      "outputs": [],
      "source": [
        "bert_model.train_model(train_df, acc=accuracy_score)"
      ]
    },
    {
      "cell_type": "code",
      "source": [
        "result, model_outputs, wrong_predictions = bert_model.eval_model(eval_df, acc=accuracy_score)"
      ],
      "metadata": {
        "id": "ZeDDsqHCE82v"
      },
      "execution_count": null,
      "outputs": []
    },
    {
      "cell_type": "code",
      "source": [
        "result"
      ],
      "metadata": {
        "id": "WfoU5lyGFmrp"
      },
      "execution_count": null,
      "outputs": []
    },
    {
      "cell_type": "code",
      "source": [
        "x_testval = np.array(x_test.values)\n",
        "listoftestvalues = x_testval.tolist()\n",
        "preds, model_ouputs = bert_model.predict(listoftestvalues)"
      ],
      "metadata": {
        "id": "LsG0TjXWFuht"
      },
      "execution_count": null,
      "outputs": []
    },
    {
      "cell_type": "code",
      "source": [
        "preds"
      ],
      "metadata": {
        "id": "ieA9gn_AGufB"
      },
      "execution_count": null,
      "outputs": []
    },
    {
      "cell_type": "code",
      "source": [
        "def predict_category(review_text):\n",
        "  output_category = bert_model.predict([review_text])\n",
        "  if (output_category[0] == 1):\n",
        "    category = 'Video Games'\n",
        "  else:\n",
        "    category = 'Muscial Instrument'\n",
        "  print(category)\n",
        "\n",
        "predict_category('Bought for my daughter who has shown great piano playing skills on a phone app with limited keys. This blew her away, she was so very happy to receive this gift. Easy to set up, open the box, take it out, put the stand and stool/seat together (both very easy), fix the keyboard to the stand (so it doesn\\'t slip off), plug it in and start playing. Looks very nice lit up with the blue screen which shows you what instrument you are playing. Lots of combinations of instruments, backing, beats, noises, clapping, various other noises and sounds so you can really get creative and have lots of musical fun. Longer sound with use of the pedal. Headphones plug in nicely. One good thing is that the piano sound is a lovely piano sound, not like an electric piano, sounds like a nice real piano. The keys have a nice bounce to them. You can record ONE song/play of your music and play it back. We really do like it a lot.')"
      ],
      "metadata": {
        "id": "WSa9q-k0Jdbq"
      },
      "execution_count": null,
      "outputs": []
    }
  ],
  "metadata": {
    "colab": {
      "collapsed_sections": [
        "eW4lGm-n8Q4W",
        "dhq6J2Ej6_jn",
        "--cz-ytmM92D"
      ],
      "name": "AML COURSEWORK.ipynb",
      "provenance": [],
      "mount_file_id": "1laxdB7wKUZpxIbIveI9_hA7ciD9vzH9V",
      "authorship_tag": "ABX9TyMnfH6BUkaR/5E8ZbCcc8NS",
      "include_colab_link": true
    },
    "kernelspec": {
      "display_name": "Python 3",
      "name": "python3"
    },
    "language_info": {
      "name": "python"
    },
    "accelerator": "GPU"
  },
  "nbformat": 4,
  "nbformat_minor": 0
}