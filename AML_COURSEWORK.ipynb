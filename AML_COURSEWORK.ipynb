{
  "cells": [
    {
      "cell_type": "markdown",
      "metadata": {
        "id": "view-in-github",
        "colab_type": "text"
      },
      "source": [
        "<a href=\"https://colab.research.google.com/github/niyaryca/AMLDataset/blob/main/AML_COURSEWORK.ipynb\" target=\"_parent\"><img src=\"https://colab.research.google.com/assets/colab-badge.svg\" alt=\"Open In Colab\"/></a>"
      ]
    },
    {
      "cell_type": "code",
      "execution_count": null,
      "metadata": {
        "colab": {
          "base_uri": "https://localhost:8080/"
        },
        "id": "MgKiXFymIUvz",
        "outputId": "714f3b2b-8307-4bed-c7e5-f41aff1de8fe"
      },
      "outputs": [
        {
          "output_type": "stream",
          "name": "stdout",
          "text": [
            "Requirement already satisfied: neattext in /usr/local/lib/python3.7/dist-packages (0.1.3)\n"
          ]
        }
      ],
      "source": [
        "!pip install neattext"
      ]
    },
    {
      "cell_type": "code",
      "execution_count": null,
      "metadata": {
        "id": "zDlS7hPe493R"
      },
      "outputs": [],
      "source": [
        "# Load EDA Pkgs\n",
        "import pandas as pd\n",
        "import numpy as np\n",
        "import neattext.functions as nfx\n",
        "import seaborn as sns"
      ]
    },
    {
      "cell_type": "code",
      "execution_count": null,
      "metadata": {
        "id": "-2xpQU4Iuhzm"
      },
      "outputs": [],
      "source": [
        "from sklearn.linear_model import LogisticRegression\n",
        "from sklearn.naive_bayes import GaussianNB\n",
        "from sklearn.naive_bayes import MultinomialNB\n",
        "from sklearn.feature_extraction.text import TfidfVectorizer\n",
        "from sklearn.svm import LinearSVC\n",
        "from sklearn.model_selection import train_test_split\n",
        "from sklearn.metrics import classification_report,confusion_matrix,plot_confusion_matrix\n",
        "from sklearn.metrics import accuracy_score, precision_score, recall_score\n",
        "from sklearn.metrics import f1_score, mean_squared_error\n",
        "import re\n",
        "import spacy\n",
        "from nltk.corpus import stopwords\n",
        "from wordcloud import WordCloud,STOPWORDS\n",
        "from tensorflow.keras.utils import to_categorical"
      ]
    },
    {
      "cell_type": "markdown",
      "metadata": {
        "id": "eW4lGm-n8Q4W"
      },
      "source": [
        "### **Loading DataSet**"
      ]
    },
    {
      "cell_type": "code",
      "execution_count": null,
      "metadata": {
        "colab": {
          "base_uri": "https://localhost:8080/",
          "height": 206
        },
        "id": "2NnJzKamuwu1",
        "outputId": "e03f7451-6669-4053-a2f3-d73d7172aab4"
      },
      "outputs": [
        {
          "output_type": "execute_result",
          "data": {
            "text/plain": [
              "               review_id                                               text  \\\n",
              "0  product_review_000000  I can't even remember the first time I finishe...   \n",
              "1  product_review_000001  Ernie Ball's Electric Acoustic sound dull. I h...   \n",
              "2  product_review_000002  Anyone who buys this game because it's markete...   \n",
              "3  product_review_000003  The system had a burn in the screen and kept g...   \n",
              "4  product_review_000004  As this is a remake/remaster review I will not...   \n",
              "\n",
              "  verified  review_score     product_category  \n",
              "0    False           5.0          video_games  \n",
              "1     True          -1.0  musical_instruments  \n",
              "2    False           5.0          video_games  \n",
              "3     True           3.0          video_games  \n",
              "4     True          -1.0          video_games  "
            ],
            "text/html": [
              "\n",
              "  <div id=\"df-5c13c4ee-bf07-4db4-a0e9-10f0e384e853\">\n",
              "    <div class=\"colab-df-container\">\n",
              "      <div>\n",
              "<style scoped>\n",
              "    .dataframe tbody tr th:only-of-type {\n",
              "        vertical-align: middle;\n",
              "    }\n",
              "\n",
              "    .dataframe tbody tr th {\n",
              "        vertical-align: top;\n",
              "    }\n",
              "\n",
              "    .dataframe thead th {\n",
              "        text-align: right;\n",
              "    }\n",
              "</style>\n",
              "<table border=\"1\" class=\"dataframe\">\n",
              "  <thead>\n",
              "    <tr style=\"text-align: right;\">\n",
              "      <th></th>\n",
              "      <th>review_id</th>\n",
              "      <th>text</th>\n",
              "      <th>verified</th>\n",
              "      <th>review_score</th>\n",
              "      <th>product_category</th>\n",
              "    </tr>\n",
              "  </thead>\n",
              "  <tbody>\n",
              "    <tr>\n",
              "      <th>0</th>\n",
              "      <td>product_review_000000</td>\n",
              "      <td>I can't even remember the first time I finishe...</td>\n",
              "      <td>False</td>\n",
              "      <td>5.0</td>\n",
              "      <td>video_games</td>\n",
              "    </tr>\n",
              "    <tr>\n",
              "      <th>1</th>\n",
              "      <td>product_review_000001</td>\n",
              "      <td>Ernie Ball's Electric Acoustic sound dull. I h...</td>\n",
              "      <td>True</td>\n",
              "      <td>-1.0</td>\n",
              "      <td>musical_instruments</td>\n",
              "    </tr>\n",
              "    <tr>\n",
              "      <th>2</th>\n",
              "      <td>product_review_000002</td>\n",
              "      <td>Anyone who buys this game because it's markete...</td>\n",
              "      <td>False</td>\n",
              "      <td>5.0</td>\n",
              "      <td>video_games</td>\n",
              "    </tr>\n",
              "    <tr>\n",
              "      <th>3</th>\n",
              "      <td>product_review_000003</td>\n",
              "      <td>The system had a burn in the screen and kept g...</td>\n",
              "      <td>True</td>\n",
              "      <td>3.0</td>\n",
              "      <td>video_games</td>\n",
              "    </tr>\n",
              "    <tr>\n",
              "      <th>4</th>\n",
              "      <td>product_review_000004</td>\n",
              "      <td>As this is a remake/remaster review I will not...</td>\n",
              "      <td>True</td>\n",
              "      <td>-1.0</td>\n",
              "      <td>video_games</td>\n",
              "    </tr>\n",
              "  </tbody>\n",
              "</table>\n",
              "</div>\n",
              "      <button class=\"colab-df-convert\" onclick=\"convertToInteractive('df-5c13c4ee-bf07-4db4-a0e9-10f0e384e853')\"\n",
              "              title=\"Convert this dataframe to an interactive table.\"\n",
              "              style=\"display:none;\">\n",
              "        \n",
              "  <svg xmlns=\"http://www.w3.org/2000/svg\" height=\"24px\"viewBox=\"0 0 24 24\"\n",
              "       width=\"24px\">\n",
              "    <path d=\"M0 0h24v24H0V0z\" fill=\"none\"/>\n",
              "    <path d=\"M18.56 5.44l.94 2.06.94-2.06 2.06-.94-2.06-.94-.94-2.06-.94 2.06-2.06.94zm-11 1L8.5 8.5l.94-2.06 2.06-.94-2.06-.94L8.5 2.5l-.94 2.06-2.06.94zm10 10l.94 2.06.94-2.06 2.06-.94-2.06-.94-.94-2.06-.94 2.06-2.06.94z\"/><path d=\"M17.41 7.96l-1.37-1.37c-.4-.4-.92-.59-1.43-.59-.52 0-1.04.2-1.43.59L10.3 9.45l-7.72 7.72c-.78.78-.78 2.05 0 2.83L4 21.41c.39.39.9.59 1.41.59.51 0 1.02-.2 1.41-.59l7.78-7.78 2.81-2.81c.8-.78.8-2.07 0-2.86zM5.41 20L4 18.59l7.72-7.72 1.47 1.35L5.41 20z\"/>\n",
              "  </svg>\n",
              "      </button>\n",
              "      \n",
              "  <style>\n",
              "    .colab-df-container {\n",
              "      display:flex;\n",
              "      flex-wrap:wrap;\n",
              "      gap: 12px;\n",
              "    }\n",
              "\n",
              "    .colab-df-convert {\n",
              "      background-color: #E8F0FE;\n",
              "      border: none;\n",
              "      border-radius: 50%;\n",
              "      cursor: pointer;\n",
              "      display: none;\n",
              "      fill: #1967D2;\n",
              "      height: 32px;\n",
              "      padding: 0 0 0 0;\n",
              "      width: 32px;\n",
              "    }\n",
              "\n",
              "    .colab-df-convert:hover {\n",
              "      background-color: #E2EBFA;\n",
              "      box-shadow: 0px 1px 2px rgba(60, 64, 67, 0.3), 0px 1px 3px 1px rgba(60, 64, 67, 0.15);\n",
              "      fill: #174EA6;\n",
              "    }\n",
              "\n",
              "    [theme=dark] .colab-df-convert {\n",
              "      background-color: #3B4455;\n",
              "      fill: #D2E3FC;\n",
              "    }\n",
              "\n",
              "    [theme=dark] .colab-df-convert:hover {\n",
              "      background-color: #434B5C;\n",
              "      box-shadow: 0px 1px 3px 1px rgba(0, 0, 0, 0.15);\n",
              "      filter: drop-shadow(0px 1px 2px rgba(0, 0, 0, 0.3));\n",
              "      fill: #FFFFFF;\n",
              "    }\n",
              "  </style>\n",
              "\n",
              "      <script>\n",
              "        const buttonEl =\n",
              "          document.querySelector('#df-5c13c4ee-bf07-4db4-a0e9-10f0e384e853 button.colab-df-convert');\n",
              "        buttonEl.style.display =\n",
              "          google.colab.kernel.accessAllowed ? 'block' : 'none';\n",
              "\n",
              "        async function convertToInteractive(key) {\n",
              "          const element = document.querySelector('#df-5c13c4ee-bf07-4db4-a0e9-10f0e384e853');\n",
              "          const dataTable =\n",
              "            await google.colab.kernel.invokeFunction('convertToInteractive',\n",
              "                                                     [key], {});\n",
              "          if (!dataTable) return;\n",
              "\n",
              "          const docLinkHtml = 'Like what you see? Visit the ' +\n",
              "            '<a target=\"_blank\" href=https://colab.research.google.com/notebooks/data_table.ipynb>data table notebook</a>'\n",
              "            + ' to learn more about interactive tables.';\n",
              "          element.innerHTML = '';\n",
              "          dataTable['output_type'] = 'display_data';\n",
              "          await google.colab.output.renderOutput(dataTable, element);\n",
              "          const docLink = document.createElement('div');\n",
              "          docLink.innerHTML = docLinkHtml;\n",
              "          element.appendChild(docLink);\n",
              "        }\n",
              "      </script>\n",
              "    </div>\n",
              "  </div>\n",
              "  "
            ]
          },
          "metadata": {},
          "execution_count": 23
        }
      ],
      "source": [
        "data = pd.read_csv('https://raw.githubusercontent.com/niyaryca/AMLDataset/main/processed_reviews_split_surnamesJ_minimal.csv')\n",
        "data.head()"
      ]
    },
    {
      "cell_type": "markdown",
      "metadata": {
        "id": "D8TiDz1o9r_Y"
      },
      "source": [
        "# **Preprocessing Data**"
      ]
    },
    {
      "cell_type": "markdown",
      "metadata": {
        "id": "sQEIyc_t_Fja"
      },
      "source": [
        "### **Explanatory Data Analysis**"
      ]
    },
    {
      "cell_type": "code",
      "execution_count": null,
      "metadata": {
        "colab": {
          "base_uri": "https://localhost:8080/"
        },
        "id": "jp3fzszP_S6q",
        "outputId": "3db8fd24-3a2a-4c80-908a-28df9b512680"
      },
      "outputs": [
        {
          "output_type": "stream",
          "name": "stdout",
          "text": [
            " 5.0    19280\n",
            " 4.0     6205\n",
            " 3.0     3109\n",
            " 1.0     1872\n",
            " 2.0     1545\n",
            "-1.0      907\n",
            "Name: review_score, dtype: int64\n"
          ]
        }
      ],
      "source": [
        "data.describe()\n",
        "data.dropna(subset=['text'])\n",
        "print(data['review_score'].value_counts())"
      ]
    },
    {
      "cell_type": "markdown",
      "metadata": {
        "id": "wHuqqxQM_tr4"
      },
      "source": [
        "the reviews are negative as well which are not acceptable so removing the rows which have negative values"
      ]
    },
    {
      "cell_type": "code",
      "execution_count": null,
      "metadata": {
        "colab": {
          "base_uri": "https://localhost:8080/"
        },
        "id": "F9-7npoXAeuD",
        "outputId": "85cd890e-443a-4aea-dc2d-4f8071c90fde"
      },
      "outputs": [
        {
          "output_type": "stream",
          "name": "stdout",
          "text": [
            "review_id             0\n",
            "text                 10\n",
            "verified            121\n",
            "review_score        907\n",
            "product_category    906\n",
            "dtype: int64\n",
            "(32918, 5)\n",
            "review_id             0\n",
            "text                 10\n",
            "verified            121\n",
            "review_score          0\n",
            "product_category    906\n",
            "dtype: int64\n"
          ]
        }
      ],
      "source": [
        "data.loc[data.review_score<0,'review_score'] = np.nan\n",
        "\n",
        "from sklearn.impute import SimpleImputer \n",
        "\n",
        "data_no_nulls =  data.copy()\n",
        "imptr_num = SimpleImputer(missing_values = np.nan, strategy = 'mean')  \n",
        "print(data.isnull().sum())\n",
        "print(data.shape)\n",
        "column = ['review_score']\n",
        "imptr_num = imptr_num.fit(data_no_nulls[column])\n",
        "\n",
        "data_no_nulls['review_score'] = imptr_num.transform(data_no_nulls[column]) \n",
        "\n",
        "print(data_no_nulls.isnull().sum())"
      ]
    },
    {
      "cell_type": "markdown",
      "metadata": {
        "id": "BkLt5PAVA7Qq"
      },
      "source": [
        "now checking for the categorical columns"
      ]
    },
    {
      "cell_type": "code",
      "execution_count": null,
      "metadata": {
        "colab": {
          "base_uri": "https://localhost:8080/"
        },
        "id": "OiOOGpjQA-e-",
        "outputId": "80e5d99e-e127-4fa4-a953-4d654530112e"
      },
      "outputs": [
        {
          "output_type": "stream",
          "name": "stdout",
          "text": [
            "Categories and number of occurrences for 'verified'\n",
            "True     23342\n",
            "False     9455\n",
            "Name: verified, dtype: int64\n",
            "\n",
            "\n",
            "Categories and number of occurrences for 'review_score'\n",
            "5.0    19280\n",
            "4.0     6205\n",
            "3.0     3109\n",
            "1.0     1872\n",
            "2.0     1545\n",
            "Name: review_score, dtype: int64\n",
            "\n",
            "\n",
            "Categories and number of occurrences for 'product_category'\n",
            "video_games            21868\n",
            "musical_instruments    10144\n",
            "Name: product_category, dtype: int64\n",
            "\n",
            "\n",
            "review_id            0\n",
            "text                10\n",
            "verified             0\n",
            "review_score         0\n",
            "product_category     0\n",
            "dtype: int64\n"
          ]
        }
      ],
      "source": [
        "categorical_columns = ['verified','review_score','product_category']\n",
        "data.head()\n",
        "for col in categorical_columns:\n",
        "  print(f\"Categories and number of occurrences for '{col}'\")\n",
        "  print(data[col].value_counts())\n",
        "  print(\"\\n\")\n",
        "\n",
        "imptr_empl = SimpleImputer(missing_values = np.nan, strategy = 'most_frequent')  \n",
        "\n",
        "# 2. Fit the imputer object to the feature matrix\n",
        "imptr_empl = imptr_empl.fit(data[categorical_columns])\n",
        "\n",
        "# 3. Call Transform to replace missing data in train_dataset (on specific columns) by the mean of the column to which that missing data belongs to\n",
        "data_no_nulls[categorical_columns] = imptr_empl.transform(data[categorical_columns]) \n",
        "\n",
        "print(data_no_nulls.isnull().sum())\n"
      ]
    },
    {
      "cell_type": "markdown",
      "metadata": {
        "id": "sqfMAUBCCJ41"
      },
      "source": [
        "Seems like all the other categorical columns are fine now and the null values are replaced with the most recent one."
      ]
    },
    {
      "cell_type": "markdown",
      "metadata": {
        "id": "V-41pO4NP2ra"
      },
      "source": [
        "**Removing data where the reviews are null because nothing can be done for that as the whole prediction depends on this feature.**"
      ]
    },
    {
      "cell_type": "code",
      "execution_count": null,
      "metadata": {
        "colab": {
          "base_uri": "https://localhost:8080/"
        },
        "id": "-poZfB4cPxBS",
        "outputId": "99026e9c-a275-4f6a-ee5b-2f30964cb716"
      },
      "outputs": [
        {
          "output_type": "stream",
          "name": "stdout",
          "text": [
            "review_id            0\n",
            "text                10\n",
            "verified             0\n",
            "review_score         0\n",
            "product_category     0\n",
            "dtype: int64\n",
            "review_id           0\n",
            "text                0\n",
            "verified            0\n",
            "review_score        0\n",
            "product_category    0\n",
            "dtype: int64\n"
          ]
        }
      ],
      "source": [
        "print(data_no_nulls.isna().sum())\n",
        "data_no_nulls = data_no_nulls.dropna()\n",
        "print(data_no_nulls.isna().sum())\n"
      ]
    },
    {
      "cell_type": "markdown",
      "metadata": {
        "id": "EVJ3Z_oE1rbJ"
      },
      "source": [
        "### **Text Preprocessing**"
      ]
    },
    {
      "cell_type": "markdown",
      "metadata": {
        "id": "KzslgbAS2MeX"
      },
      "source": [
        "**Removing Stopwords**"
      ]
    },
    {
      "cell_type": "code",
      "execution_count": null,
      "metadata": {
        "id": "QFvQ3Mtx11ZG"
      },
      "outputs": [],
      "source": [
        "dir(nfx)\n",
        "processed_data = data_no_nulls\n",
        "processed_data['clean_reviews']= processed_data['text'].apply(nfx.remove_stopwords)"
      ]
    },
    {
      "cell_type": "markdown",
      "metadata": {
        "id": "PUPhuUT02RSe"
      },
      "source": [
        "**Removing Special Characters**"
      ]
    },
    {
      "cell_type": "code",
      "execution_count": null,
      "metadata": {
        "id": "y_QDXqOp2UX8"
      },
      "outputs": [],
      "source": [
        "processed_data['clean_reviews']= processed_data['clean_reviews'].apply(nfx.remove_special_characters)"
      ]
    },
    {
      "cell_type": "markdown",
      "metadata": {
        "id": "hRG99ZPO3anJ"
      },
      "source": [
        "**Text to Lowercase**"
      ]
    },
    {
      "cell_type": "code",
      "execution_count": null,
      "metadata": {
        "id": "6Rw1A4T63gx6"
      },
      "outputs": [],
      "source": [
        "processed_data['clean_reviews']= processed_data['clean_reviews'].str.lower()"
      ]
    },
    {
      "cell_type": "markdown",
      "metadata": {
        "id": "wJPVHuow3umk"
      },
      "source": [
        "**Comparing with the original text**"
      ]
    },
    {
      "cell_type": "code",
      "execution_count": null,
      "metadata": {
        "colab": {
          "base_uri": "https://localhost:8080/",
          "height": 206
        },
        "id": "wNT0MWVj3pz9",
        "outputId": "091ceaaa-758f-4b01-c701-7663f2842e2f"
      },
      "outputs": [
        {
          "output_type": "execute_result",
          "data": {
            "text/plain": [
              "                                       clean_reviews  \\\n",
              "0  cant remember time finished game going review ...   \n",
              "1  ernie balls electric acoustic sound dull repla...   \n",
              "2  buys game marketed rpg going hate it turn base...   \n",
              "3  system burn screen kept going usb mode way fix...   \n",
              "4  remakeremaster review traditional review tell ...   \n",
              "\n",
              "                                                text  \n",
              "0  I can't even remember the first time I finishe...  \n",
              "1  Ernie Ball's Electric Acoustic sound dull. I h...  \n",
              "2  Anyone who buys this game because it's markete...  \n",
              "3  The system had a burn in the screen and kept g...  \n",
              "4  As this is a remake/remaster review I will not...  "
            ],
            "text/html": [
              "\n",
              "  <div id=\"df-591d8b4c-6f94-452d-ae1e-6e2415a8b6cb\">\n",
              "    <div class=\"colab-df-container\">\n",
              "      <div>\n",
              "<style scoped>\n",
              "    .dataframe tbody tr th:only-of-type {\n",
              "        vertical-align: middle;\n",
              "    }\n",
              "\n",
              "    .dataframe tbody tr th {\n",
              "        vertical-align: top;\n",
              "    }\n",
              "\n",
              "    .dataframe thead th {\n",
              "        text-align: right;\n",
              "    }\n",
              "</style>\n",
              "<table border=\"1\" class=\"dataframe\">\n",
              "  <thead>\n",
              "    <tr style=\"text-align: right;\">\n",
              "      <th></th>\n",
              "      <th>clean_reviews</th>\n",
              "      <th>text</th>\n",
              "    </tr>\n",
              "  </thead>\n",
              "  <tbody>\n",
              "    <tr>\n",
              "      <th>0</th>\n",
              "      <td>cant remember time finished game going review ...</td>\n",
              "      <td>I can't even remember the first time I finishe...</td>\n",
              "    </tr>\n",
              "    <tr>\n",
              "      <th>1</th>\n",
              "      <td>ernie balls electric acoustic sound dull repla...</td>\n",
              "      <td>Ernie Ball's Electric Acoustic sound dull. I h...</td>\n",
              "    </tr>\n",
              "    <tr>\n",
              "      <th>2</th>\n",
              "      <td>buys game marketed rpg going hate it turn base...</td>\n",
              "      <td>Anyone who buys this game because it's markete...</td>\n",
              "    </tr>\n",
              "    <tr>\n",
              "      <th>3</th>\n",
              "      <td>system burn screen kept going usb mode way fix...</td>\n",
              "      <td>The system had a burn in the screen and kept g...</td>\n",
              "    </tr>\n",
              "    <tr>\n",
              "      <th>4</th>\n",
              "      <td>remakeremaster review traditional review tell ...</td>\n",
              "      <td>As this is a remake/remaster review I will not...</td>\n",
              "    </tr>\n",
              "  </tbody>\n",
              "</table>\n",
              "</div>\n",
              "      <button class=\"colab-df-convert\" onclick=\"convertToInteractive('df-591d8b4c-6f94-452d-ae1e-6e2415a8b6cb')\"\n",
              "              title=\"Convert this dataframe to an interactive table.\"\n",
              "              style=\"display:none;\">\n",
              "        \n",
              "  <svg xmlns=\"http://www.w3.org/2000/svg\" height=\"24px\"viewBox=\"0 0 24 24\"\n",
              "       width=\"24px\">\n",
              "    <path d=\"M0 0h24v24H0V0z\" fill=\"none\"/>\n",
              "    <path d=\"M18.56 5.44l.94 2.06.94-2.06 2.06-.94-2.06-.94-.94-2.06-.94 2.06-2.06.94zm-11 1L8.5 8.5l.94-2.06 2.06-.94-2.06-.94L8.5 2.5l-.94 2.06-2.06.94zm10 10l.94 2.06.94-2.06 2.06-.94-2.06-.94-.94-2.06-.94 2.06-2.06.94z\"/><path d=\"M17.41 7.96l-1.37-1.37c-.4-.4-.92-.59-1.43-.59-.52 0-1.04.2-1.43.59L10.3 9.45l-7.72 7.72c-.78.78-.78 2.05 0 2.83L4 21.41c.39.39.9.59 1.41.59.51 0 1.02-.2 1.41-.59l7.78-7.78 2.81-2.81c.8-.78.8-2.07 0-2.86zM5.41 20L4 18.59l7.72-7.72 1.47 1.35L5.41 20z\"/>\n",
              "  </svg>\n",
              "      </button>\n",
              "      \n",
              "  <style>\n",
              "    .colab-df-container {\n",
              "      display:flex;\n",
              "      flex-wrap:wrap;\n",
              "      gap: 12px;\n",
              "    }\n",
              "\n",
              "    .colab-df-convert {\n",
              "      background-color: #E8F0FE;\n",
              "      border: none;\n",
              "      border-radius: 50%;\n",
              "      cursor: pointer;\n",
              "      display: none;\n",
              "      fill: #1967D2;\n",
              "      height: 32px;\n",
              "      padding: 0 0 0 0;\n",
              "      width: 32px;\n",
              "    }\n",
              "\n",
              "    .colab-df-convert:hover {\n",
              "      background-color: #E2EBFA;\n",
              "      box-shadow: 0px 1px 2px rgba(60, 64, 67, 0.3), 0px 1px 3px 1px rgba(60, 64, 67, 0.15);\n",
              "      fill: #174EA6;\n",
              "    }\n",
              "\n",
              "    [theme=dark] .colab-df-convert {\n",
              "      background-color: #3B4455;\n",
              "      fill: #D2E3FC;\n",
              "    }\n",
              "\n",
              "    [theme=dark] .colab-df-convert:hover {\n",
              "      background-color: #434B5C;\n",
              "      box-shadow: 0px 1px 3px 1px rgba(0, 0, 0, 0.15);\n",
              "      filter: drop-shadow(0px 1px 2px rgba(0, 0, 0, 0.3));\n",
              "      fill: #FFFFFF;\n",
              "    }\n",
              "  </style>\n",
              "\n",
              "      <script>\n",
              "        const buttonEl =\n",
              "          document.querySelector('#df-591d8b4c-6f94-452d-ae1e-6e2415a8b6cb button.colab-df-convert');\n",
              "        buttonEl.style.display =\n",
              "          google.colab.kernel.accessAllowed ? 'block' : 'none';\n",
              "\n",
              "        async function convertToInteractive(key) {\n",
              "          const element = document.querySelector('#df-591d8b4c-6f94-452d-ae1e-6e2415a8b6cb');\n",
              "          const dataTable =\n",
              "            await google.colab.kernel.invokeFunction('convertToInteractive',\n",
              "                                                     [key], {});\n",
              "          if (!dataTable) return;\n",
              "\n",
              "          const docLinkHtml = 'Like what you see? Visit the ' +\n",
              "            '<a target=\"_blank\" href=https://colab.research.google.com/notebooks/data_table.ipynb>data table notebook</a>'\n",
              "            + ' to learn more about interactive tables.';\n",
              "          element.innerHTML = '';\n",
              "          dataTable['output_type'] = 'display_data';\n",
              "          await google.colab.output.renderOutput(dataTable, element);\n",
              "          const docLink = document.createElement('div');\n",
              "          docLink.innerHTML = docLinkHtml;\n",
              "          element.appendChild(docLink);\n",
              "        }\n",
              "      </script>\n",
              "    </div>\n",
              "  </div>\n",
              "  "
            ]
          },
          "metadata": {},
          "execution_count": 31
        }
      ],
      "source": [
        "processed_data[['clean_reviews','text']].head()"
      ]
    },
    {
      "cell_type": "code",
      "source": [
        "import matplotlib.pyplot as plt\n",
        "\n",
        "category_classes = processed_data.product_category.unique()\n",
        "category_counts = []\n",
        "rating_classes = processed_data.review_score.unique()\n",
        "rating_counts = []\n",
        "\n",
        "for i in category_classes:\n",
        "  count = len(processed_data[processed_data.product_category==i])\n",
        "  category_counts.append(count)\n",
        "\n",
        "plt.bar(['Video Games', 'Muscial Instruments'], category_counts)\n",
        "plt.show()\n",
        "\n",
        "for i in rating_classes:\n",
        "  count = len(processed_data[processed_data.review_score==i])\n",
        "  rating_counts.append(count)\n",
        "\n",
        "print(processed_data['review_score'].value_counts())\n",
        "print(rating_counts)\n",
        "plt.bar(['5', '4','3','2','1'], rating_counts)\n",
        "plt.show()\n"
      ],
      "metadata": {
        "colab": {
          "base_uri": "https://localhost:8080/",
          "height": 634
        },
        "id": "OinpsSs3nbpM",
        "outputId": "943e8866-d944-4ac4-eea5-5112713e99d8"
      },
      "execution_count": null,
      "outputs": [
        {
          "output_type": "display_data",
          "data": {
            "text/plain": [
              "<Figure size 432x288 with 1 Axes>"
            ],
            "image/png": "[encoded data removed]"
          },
          "metadata": {
            "needs_background": "light"
          }
        },
        {
          "output_type": "stream",
          "name": "stdout",
          "text": [
            "5.0    20178\n",
            "4.0     6204\n",
            "3.0     3109\n",
            "1.0     1872\n",
            "2.0     1545\n",
            "Name: review_score, dtype: int64\n",
            "[20178, 3109, 6204, 1872, 1545]\n"
          ]
        },
        {
          "output_type": "display_data",
          "data": {
            "text/plain": [
              "<Figure size 432x288 with 1 Axes>"
            ],
            "image/png": "[encoded data removed]"
          },
          "metadata": {
            "needs_background": "light"
          }
        }
      ]
    },
    {
      "cell_type": "markdown",
      "metadata": {
        "id": "R1yJUG104iLH"
      },
      "source": [
        "# **1st Algorithm (Logistic Regression)**\n",
        "\n"
      ]
    },
    {
      "cell_type": "markdown",
      "metadata": {
        "id": "jQE9Y7hp48l2"
      },
      "source": [
        "### **Building Features**"
      ]
    },
    {
      "cell_type": "code",
      "execution_count": null,
      "metadata": {
        "id": "cKCoiSyO500E"
      },
      "outputs": [],
      "source": [
        "reviews_features = processed_data['clean_reviews']\n",
        "category_labels = processed_data['product_category']\n",
        "rating_labels = processed_data['review_score']"
      ]
    },
    {
      "cell_type": "markdown",
      "metadata": {
        "id": "OdLAYsLa4z0h"
      },
      "source": [
        "Convert words to vectors using TfidfVectorizer"
      ]
    },
    {
      "cell_type": "code",
      "execution_count": null,
      "metadata": {
        "id": "QOj2E-W64vQ3"
      },
      "outputs": [],
      "source": [
        "tfidf_vector = TfidfVectorizer()\n",
        "reviews = tfidf_vector.fit_transform(reviews_features)"
      ]
    },
    {
      "cell_type": "code",
      "execution_count": null,
      "metadata": {
        "id": "fF9sxwIJ6j_9"
      },
      "outputs": [],
      "source": [
        "reviews_train,reviews_test,category_train,category_test,rating_train,rating_test = train_test_split(reviews,category_labels,rating_labels, test_size=0.2,random_state=42)"
      ]
    },
    {
      "cell_type": "markdown",
      "metadata": {
        "id": "nhuiEt5178fd"
      },
      "source": [
        "***Building Model***"
      ]
    },
    {
      "cell_type": "code",
      "execution_count": null,
      "metadata": {
        "id": "u6loSbmb7_-g"
      },
      "outputs": [],
      "source": [
        "model_category = LogisticRegression()\n",
        "category_prediction = model_category.fit(reviews_train,category_train).predict(reviews_test)"
      ]
    },
    {
      "cell_type": "code",
      "execution_count": null,
      "metadata": {
        "id": "7ydqW9ubLR_C"
      },
      "outputs": [],
      "source": [
        "model_rating = LinearSVC()\n",
        "\n",
        "rating_train=rating_train.astype('float')\n",
        "rating_test=rating_test.astype('float')\n",
        "rating_prediction = model_rating.fit(reviews_train,rating_train).predict(reviews_test)"
      ]
    },
    {
      "cell_type": "code",
      "execution_count": null,
      "metadata": {
        "colab": {
          "base_uri": "https://localhost:8080/"
        },
        "id": "3SMzSo4c8V04",
        "outputId": "278a3cfd-2de8-4ba4-d853-50244cb47d03"
      },
      "outputs": [
        {
          "output_type": "stream",
          "name": "stdout",
          "text": [
            "0.9325432999088423\n",
            "0.6607414159829839\n"
          ]
        }
      ],
      "source": [
        "print(model_category.score(reviews_test,category_test))\n",
        "print(model_rating.score(reviews_test,rating_test))"
      ]
    },
    {
      "cell_type": "code",
      "execution_count": null,
      "metadata": {
        "colab": {
          "base_uri": "https://localhost:8080/"
        },
        "id": "9dDrl1ZGFCEi",
        "outputId": "223c6b3b-d300-4274-f3ad-496a1d2b77bc"
      },
      "outputs": [
        {
          "output_type": "stream",
          "name": "stdout",
          "text": [
            "                     precision    recall  f1-score   support\n",
            "\n",
            "musical_instruments       0.88      0.90      0.89      1980\n",
            "        video_games       0.95      0.95      0.95      4602\n",
            "\n",
            "           accuracy                           0.93      6582\n",
            "          macro avg       0.92      0.92      0.92      6582\n",
            "       weighted avg       0.93      0.93      0.93      6582\n",
            "\n",
            "              precision    recall  f1-score   support\n",
            "\n",
            "         1.0       0.45      0.58      0.51       291\n",
            "         2.0       0.15      0.38      0.21       122\n",
            "         3.0       0.25      0.40      0.31       391\n",
            "         4.0       0.26      0.39      0.31       823\n",
            "         5.0       0.90      0.74      0.81      4955\n",
            "\n",
            "    accuracy                           0.66      6582\n",
            "   macro avg       0.40      0.50      0.43      6582\n",
            "weighted avg       0.75      0.66      0.70      6582\n",
            "\n"
          ]
        }
      ],
      "source": [
        "print(classification_report(category_prediction,category_test))\n",
        "print(classification_report(rating_prediction,rating_test))"
      ]
    },
    {
      "cell_type": "code",
      "execution_count": null,
      "metadata": {
        "colab": {
          "base_uri": "https://localhost:8080/",
          "height": 721
        },
        "id": "3NnPS9vv6Hm_",
        "outputId": "45525a68-59af-4cef-fc5c-6b5babd243e6"
      },
      "outputs": [
        {
          "output_type": "stream",
          "name": "stderr",
          "text": [
            "/usr/local/lib/python3.7/dist-packages/sklearn/utils/deprecation.py:87: FutureWarning: Function plot_confusion_matrix is deprecated; Function `plot_confusion_matrix` is deprecated in 1.0 and will be removed in 1.2. Use one of the class methods: ConfusionMatrixDisplay.from_predictions or ConfusionMatrixDisplay.from_estimator.\n",
            "  warnings.warn(msg, category=FutureWarning)\n",
            "/usr/local/lib/python3.7/dist-packages/sklearn/utils/deprecation.py:87: FutureWarning: Function plot_confusion_matrix is deprecated; Function `plot_confusion_matrix` is deprecated in 1.0 and will be removed in 1.2. Use one of the class methods: ConfusionMatrixDisplay.from_predictions or ConfusionMatrixDisplay.from_estimator.\n",
            "  warnings.warn(msg, category=FutureWarning)\n"
          ]
        },
        {
          "output_type": "execute_result",
          "data": {
            "text/plain": [
              "<sklearn.metrics._plot.confusion_matrix.ConfusionMatrixDisplay at 0x7fcbc8700f90>"
            ]
          },
          "metadata": {},
          "execution_count": 40
        },
        {
          "output_type": "display_data",
          "data": {
            "text/plain": [
              "<Figure size 432x288 with 2 Axes>"
            ],
            "image/png": "[encoded data removed]"
          },
          "metadata": {
            "needs_background": "light"
          }
        },
        {
          "output_type": "display_data",
          "data": {
            "text/plain": [
              "<Figure size 432x288 with 2 Axes>"
            ],
            "image/png": "[encoded data removed]"
          },
          "metadata": {
            "needs_background": "light"
          }
        }
      ],
      "source": [
        "confusion_matrix(category_prediction,category_test)\n",
        "plot_confusion_matrix(model_category,reviews_test,category_test,xticks_rotation=40)\n",
        "\n",
        "confusion_matrix(category_prediction,category_test)\n",
        "plot_confusion_matrix(model_rating,reviews_test,rating_test,xticks_rotation=40)"
      ]
    },
    {
      "cell_type": "code",
      "execution_count": null,
      "metadata": {
        "id": "uTYQx7A8FXHZ"
      },
      "outputs": [],
      "source": [
        "def prediction(text):\n",
        "    my_vec = tfidf_vector.transform([text])\n",
        "    text_array = my_vec.toarray()\n",
        "    category = model_category.predict(text_array)[0]\n",
        "    rating = model_rating.predict(text_array)[0]\n",
        "    return \"Predicted Category: \" + category + \"/n Predicted Rating: \" + str(rating)"
      ]
    },
    {
      "cell_type": "code",
      "source": [
        "prediction(\"I am dissapoint from this game\")"
      ],
      "metadata": {
        "colab": {
          "base_uri": "https://localhost:8080/",
          "height": 35
        },
        "id": "ny2hma4imhqw",
        "outputId": "318de8b7-ee4c-4730-ee8d-531ef50f6a6e"
      },
      "execution_count": null,
      "outputs": [
        {
          "output_type": "execute_result",
          "data": {
            "text/plain": [
              "'Predicted Category: video_games/n Predicted Rating: 5.0'"
            ],
            "application/vnd.google.colaboratory.intrinsic+json": {
              "type": "string"
            }
          },
          "metadata": {},
          "execution_count": 42
        }
      ]
    },
    {
      "cell_type": "markdown",
      "source": [
        "# **2nd Algorithm**"
      ],
      "metadata": {
        "id": "Mol6Rm2-ultw"
      }
    },
    {
      "cell_type": "code",
      "source": [
        "import nltk\n",
        "nltk.download('stopwords')\n",
        "from tensorflow.keras.preprocessing.text import Tokenizer\n",
        "from tensorflow.keras.preprocessing.sequence import pad_sequences\n",
        "from keras.utils import np_utils\n",
        "from keras.models import Sequential\n",
        "from keras import layers\n",
        "from keras.wrappers.scikit_learn import KerasClassifier"
      ],
      "metadata": {
        "colab": {
          "base_uri": "https://localhost:8080/"
        },
        "id": "BUggDM6duo49",
        "outputId": "bbfd1fe0-8f91-4df2-f2c7-99ecfe5d865a"
      },
      "execution_count": null,
      "outputs": [
        {
          "output_type": "stream",
          "name": "stdout",
          "text": [
            "[nltk_data] Downloading package stopwords to /root/nltk_data...\n",
            "[nltk_data]   Unzipping corpora/stopwords.zip.\n"
          ]
        }
      ]
    },
    {
      "cell_type": "code",
      "source": [
        "X_train, X_test, y_train, y_test = train_test_split(reviews_features, category_labels, stratify=category_labels, random_state=42,test_size=0.1)\n",
        "tokenizer = Tokenizer()\n",
        "tokenizer.fit_on_texts(X_train)\n",
        "\n",
        "X_train = tokenizer.texts_to_sequences(X_train)\n",
        "X_test = tokenizer.texts_to_sequences(X_test)\n",
        "\n",
        "vocab_size = len(tokenizer.word_index) + 1  # Adding 1 because of reserved 0 index"
      ],
      "metadata": {
        "id": "4zuQq6I-v5zu"
      },
      "execution_count": null,
      "outputs": []
    },
    {
      "cell_type": "code",
      "source": [
        "lens_train = [len(i) for i in X_train]\n",
        "lens_test = [len(i) for i in X_test]\n",
        "lens = lens_train + lens_test\n",
        "\n",
        "maxlen = np.max(lens)\n",
        "\n",
        "print('Max len:', maxlen)"
      ],
      "metadata": {
        "colab": {
          "base_uri": "https://localhost:8080/"
        },
        "id": "jtfGIxw8z4dU",
        "outputId": "0927f060-27f4-462e-edf4-b997f6bab662"
      },
      "execution_count": null,
      "outputs": [
        {
          "output_type": "stream",
          "name": "stdout",
          "text": [
            "Max len: 1887\n"
          ]
        }
      ]
    },
    {
      "cell_type": "code",
      "source": [
        "X_train = pad_sequences(X_train, padding='post', maxlen=maxlen)\n",
        "X_test = pad_sequences(X_test, padding='post', maxlen=maxlen)"
      ],
      "metadata": {
        "id": "rgbljxt8z7Rk"
      },
      "execution_count": null,
      "outputs": []
    },
    {
      "cell_type": "code",
      "source": [
        "embedding_dim = 100  # vector representation of words/neuron amount after the input https://datascience.stackexchange.com/questions/53995/what-does-embedding-mean-in-machine-learning#:~:text=In%20the%20context%20of%20machine,with%20other%20models%20as%20well.\n",
        "\n",
        "model = Sequential()  # initiates the model\n",
        "model.add(layers.Embedding(input_dim=vocab_size,  # adds the first [input] layer which will be our tokenized tweets\n",
        "                          output_dim=embedding_dim,  # the embedding of that tweet, essentially inputs output\n",
        "                          input_length=maxlen))  # size of the input layer determined by maxlen calculated before\n",
        "model.add(layers.Dropout(0.2))  # dorpouts are added to help with overtraining, essentially \"turns off\" said amount of neurons before giving information to the next layer\n",
        "model.add(layers.GlobalMaxPool1D())  # https://computersciencewiki.org/index.php/Max-pooling_/_Pooling\n",
        "model.add(layers.Dropout(0.2))\n",
        "model.add(layers.Dense(50, activation='relu'))  # additional hidden layer\n",
        "model.add(layers.Dropout(0.2))\n",
        "model.add(layers.Dense(50, activation='relu'))\n",
        "model.add(layers.Dropout(0.2))\n",
        "model.add(layers.Dense(2, activation='softmax'))  # prediction layer, 2 is the number of classes we have\n",
        "model.compile(optimizer='adam',\n",
        "              loss='categorical_crossentropy',\n",
        "              metrics=['accuracy'])\n",
        "model.summary()"
      ],
      "metadata": {
        "colab": {
          "base_uri": "https://localhost:8080/"
        },
        "id": "1cUztcDGz_MG",
        "outputId": "f7f9890a-8254-4fd0-e9a0-a0c1f61cee8f"
      },
      "execution_count": null,
      "outputs": [
        {
          "output_type": "stream",
          "name": "stdout",
          "text": [
            "Model: \"sequential\"\n",
            "_________________________________________________________________\n",
            " Layer (type)                Output Shape              Param #   \n",
            "=================================================================\n",
            " embedding (Embedding)       (None, 1887, 100)         6484300   \n",
            "                                                                 \n",
            " dropout (Dropout)           (None, 1887, 100)         0         \n",
            "                                                                 \n",
            " global_max_pooling1d (Globa  (None, 100)              0         \n",
            " lMaxPooling1D)                                                  \n",
            "                                                                 \n",
            " dropout_1 (Dropout)         (None, 100)               0         \n",
            "                                                                 \n",
            " dense (Dense)               (None, 50)                5050      \n",
            "                                                                 \n",
            " dropout_2 (Dropout)         (None, 50)                0         \n",
            "                                                                 \n",
            " dense_1 (Dense)             (None, 50)                2550      \n",
            "                                                                 \n",
            " dropout_3 (Dropout)         (None, 50)                0         \n",
            "                                                                 \n",
            " dense_2 (Dense)             (None, 2)                 102       \n",
            "                                                                 \n",
            "=================================================================\n",
            "Total params: 6,492,002\n",
            "Trainable params: 6,492,002\n",
            "Non-trainable params: 0\n",
            "_________________________________________________________________\n"
          ]
        }
      ]
    },
    {
      "cell_type": "code",
      "source": [
        "from sklearn.linear_model import SGDClassifier\n",
        "from sklearn.preprocessing import StandardScaler\n",
        "from sklearn.pipeline import make_pipeline\n",
        "\n",
        "clf_sgd = make_pipeline(StandardScaler(with_mean=False),\n",
        "                        SGDClassifier(loss='hinge',\n",
        "                                      penalty='l2',\n",
        "                                      alpha=30,\n",
        "                                      max_iter=1000, \n",
        "                                      tol=1e-3,\n",
        "                                      shuffle=True,\n",
        "                                      verbose=1,\n",
        "                                      n_jobs=-1,\n",
        "                                      random_state=0,\n",
        "                                      learning_rate='optimal',\n",
        "                                      early_stopping=True,\n",
        "                                      class_weight='balanced'))\n",
        "\n",
        "\n",
        "\n",
        "category_prediction = clf_sgd.fit(reviews_train, category_train).predict(reviews_test)\n",
        "# print(classification_report(category_prediction,category_test))\n",
        "\n",
        "rating_prediction = clf_sgd.fit(reviews_train,rating_train).predict(reviews_test)\n",
        "print(classification_report(rating_prediction,rating_test))"
      ],
      "metadata": {
        "id": "IVvx4Nk2uvwT",
        "colab": {
          "base_uri": "https://localhost:8080/"
        },
        "outputId": "88aceb5a-0980-44db-cf8d-ce4105c603c6"
      },
      "execution_count": null,
      "outputs": [
        {
          "output_type": "stream",
          "name": "stdout",
          "text": [
            "-- Epoch 1\n",
            "Norm: 0.10, NNZs: 54356, Bias: 0.002921, T: 23693, Avg. loss: 0.689163\n",
            "Total training time: 0.07 seconds.\n",
            "-- Epoch 2\n",
            "Norm: 0.09, NNZs: 55285, Bias: 0.002917, T: 47386, Avg. loss: 0.648665\n",
            "Total training time: 0.16 seconds.\n",
            "-- Epoch 3\n",
            "Norm: 0.09, NNZs: 55632, Bias: 0.002915, T: 71079, Avg. loss: 0.643842\n",
            "Total training time: 0.18 seconds.\n",
            "-- Epoch 4\n",
            "Norm: 0.09, NNZs: 55661, Bias: 0.002914, T: 94772, Avg. loss: 0.641148\n",
            "Total training time: 0.21 seconds.\n",
            "-- Epoch 5\n",
            "Norm: 0.09, NNZs: 55675, Bias: 0.002913, T: 118465, Avg. loss: 0.639651\n",
            "Total training time: 0.26 seconds.\n",
            "-- Epoch 6\n",
            "Norm: 0.09, NNZs: 55687, Bias: 0.002912, T: 142158, Avg. loss: 0.638763\n",
            "Total training time: 0.29 seconds.\n",
            "Convergence after 6 epochs took 0.30 seconds\n"
          ]
        },
        {
          "output_type": "stream",
          "name": "stderr",
          "text": [
            "[Parallel(n_jobs=-1)]: Using backend ThreadingBackend with 2 concurrent workers.\n"
          ]
        },
        {
          "output_type": "stream",
          "name": "stdout",
          "text": [
            "-- Epoch 1-- Epoch 1\n",
            "\n",
            "Norm: 0.12, NNZs: 46458, Bias: -0.006679, T: 23693, Avg. loss: 0.538296\n",
            "Total training time: 0.02 seconds.\n",
            "-- Epoch 2\n",
            "Norm: 0.11, NNZs: 47970, Bias: -0.006835, T: 47386, Avg. loss: 0.493350\n",
            "Total training time: 0.06 seconds.\n",
            "Norm: 0.12, NNZs: 44497, Bias: -0.006719, T: 23693, Avg. loss: 0.525464\n",
            "Total training time: 0.06 seconds.\n",
            "-- Epoch 3\n",
            "Norm: 0.11, NNZs: 48549, Bias: -0.006928, T: 71079, Avg. loss: 0.490972\n",
            "Total training time: 0.09 seconds.\n",
            "-- Epoch 2\n",
            "-- Epoch 4\n",
            "Norm: 0.11, NNZs: 48661, Bias: -0.006993, T: 94772, Avg. loss: 0.487629Norm: 0.11, NNZs: 46624, Bias: -0.006871, T: 47386, Avg. loss: 0.492140\n",
            "Total training time: 0.15 seconds.\n",
            "\n",
            "Total training time: 0.15 seconds.\n",
            "-- Epoch 3\n",
            "-- Epoch 5\n",
            "Norm: 0.11, NNZs: 47022, Bias: -0.006961, T: 71079, Avg. loss: 0.487502\n",
            "Total training time: 0.19 seconds.\n",
            "Norm: 0.11, NNZs: 48732, Bias: -0.007045, T: 118465, Avg. loss: 0.486242\n",
            "Total training time: 0.21 seconds.\n",
            "-- Epoch 4\n",
            "-- Epoch 6\n",
            "Norm: 0.11, NNZs: 48753, Bias: -0.007086, T: 142158, Avg. loss: 0.485297\n",
            "Total training time: 0.26 seconds.\n",
            "Norm: 0.11, NNZs: 47140, Bias: -0.007024, T: 94772, Avg. loss: 0.484996\n",
            "Total training time: 0.26 seconds.\n",
            "Convergence after 6 epochs took 0.29 seconds-- Epoch 5\n",
            "\n",
            "-- Epoch 1\n",
            "Norm: 0.11, NNZs: 49639, Bias: 0.006727, T: 23693, Avg. loss: 0.599632\n",
            "Total training time: 0.02 seconds.\n",
            "-- Epoch 2\n",
            "Norm: 0.11, NNZs: 47222, Bias: -0.007074, T: 118465, Avg. loss: 0.483402\n",
            "Total training time: 0.35 seconds.\n",
            "-- Epoch 6\n",
            "Norm: 0.11, NNZs: 51219, Bias: 0.006577, T: 47386, Avg. loss: 0.558816\n",
            "Total training time: 0.07 seconds.\n",
            "-- Epoch 3\n",
            "Norm: 0.11, NNZs: 47260, Bias: -0.007114, T: 142158, Avg. loss: 0.482151\n",
            "Total training time: 0.42 seconds.\n",
            "Convergence after 6 epochs took 0.45 seconds\n",
            "Norm: 0.10, NNZs: 51693, Bias: 0.006489, T: 71079, Avg. loss: 0.554310\n",
            "Total training time: 0.15 seconds.\n",
            "-- Epoch 1\n",
            "-- Epoch 4\n",
            "Norm: 0.09, NNZs: 52312, Bias: -0.006165, T: 23693, Avg. loss: 0.698105\n",
            "Total training time: 0.03 seconds.\n",
            "Norm: 0.10, NNZs: 51905, Bias: 0.006426, T: 94772, Avg. loss: 0.552206\n",
            "Total training time: 0.20 seconds.\n",
            "-- Epoch 2\n",
            "-- Epoch 5\n",
            "Norm: 0.10, NNZs: 51959, Bias: 0.006377, T: 118465, Avg. loss: 0.550067\n",
            "Total training time: 0.26 seconds.\n",
            "Norm: 0.09, NNZs: 53691, Bias: -0.006298, T: 47386, Avg. loss: 0.658308\n",
            "Total training time: 0.11 seconds.\n",
            "-- Epoch 6\n",
            "-- Epoch 3\n",
            "Norm: 0.10, NNZs: 51975, Bias: 0.006337, T: 142158, Avg. loss: 0.548791\n",
            "Total training time: 0.30 seconds.\n",
            "Norm: 0.09, NNZs: 53937, Bias: -0.006376, T: 71079, Avg. loss: 0.652886\n",
            "Convergence after 6 epochs took 0.32 secondsTotal training time: 0.16 seconds.\n",
            "\n",
            "-- Epoch 1\n",
            "-- Epoch 4\n",
            "Norm: 0.06, NNZs: 56286, Bias: 0.001157, T: 23693, Avg. loss: 0.892077\n",
            "Total training time: 0.05 seconds.\n",
            "Norm: 0.09, NNZs: 54090, Bias: -0.006431, T: 94772, Avg. loss: 0.649766\n",
            "Total training time: 0.24 seconds.\n",
            "-- Epoch 2\n",
            "-- Epoch 5\n",
            "Norm: 0.06, NNZs: 56782, Bias: 0.001118, T: 47386, Avg. loss: 0.861080\n",
            "Total training time: 0.14 seconds.\n",
            "-- Epoch 3\n",
            "Norm: 0.09, NNZs: 54194, Bias: -0.006474, T: 118465, Avg. loss: 0.648132\n",
            "Total training time: 0.35 seconds.\n",
            "-- Epoch 6\n",
            "Norm: 0.06, NNZs: 56924, Bias: 0.001094, T: 71079, Avg. loss: 0.856534\n",
            "Total training time: 0.22 seconds.\n",
            "-- Epoch 4\n",
            "Norm: 0.09, NNZs: 54194, Bias: -0.006509, T: 142158, Avg. loss: 0.646871\n",
            "Total training time: 0.45 seconds.\n",
            "Norm: 0.06, NNZs: 56930, Bias: 0.001077, T: 94772, Avg. loss: 0.854218\n",
            "Total training time: 0.27 seconds.\n",
            "Convergence after 6 epochs took 0.46 seconds\n",
            "-- Epoch 5\n",
            "Norm: 0.06, NNZs: 56930, Bias: 0.001064, T: 118465, Avg. loss: 0.852906\n",
            "Total training time: 0.30 seconds.\n",
            "-- Epoch 6\n",
            "Norm: 0.06, NNZs: 56930, Bias: 0.001053, T: 142158, Avg. loss: 0.852058\n",
            "Total training time: 0.35 seconds.\n",
            "Convergence after 6 epochs took 0.37 seconds\n",
            "              precision    recall  f1-score   support\n",
            "\n",
            "         1.0       0.27      0.51      0.35       197\n",
            "         2.0       0.11      0.23      0.15       155\n",
            "         3.0       0.12      0.34      0.18       226\n",
            "         4.0       0.07      0.34      0.12       268\n",
            "         5.0       0.93      0.66      0.77      5736\n",
            "\n",
            "    accuracy                           0.62      6582\n",
            "   macro avg       0.30      0.41      0.31      6582\n",
            "weighted avg       0.83      0.62      0.70      6582\n",
            "\n"
          ]
        },
        {
          "output_type": "stream",
          "name": "stderr",
          "text": [
            "[Parallel(n_jobs=-1)]: Done   5 out of   5 | elapsed:    1.0s finished\n"
          ]
        }
      ]
    },
    {
      "cell_type": "code",
      "source": [
        "# history = model.fit(X_train, y_train, validation_split=0.11, epochs=15, batch_size=32, verbose=1)#,callbacks=callbacks)"
      ],
      "metadata": {
        "id": "dmlsrzrjyyz5"
      },
      "execution_count": null,
      "outputs": []
    }
  ],
  "metadata": {
    "colab": {
      "collapsed_sections": [],
      "name": "AML COURSEWORK.ipynb",
      "provenance": [],
      "mount_file_id": "1laxdB7wKUZpxIbIveI9_hA7ciD9vzH9V",
      "authorship_tag": "ABX9TyN6HGdL/yo75t7j9lc6a4YG",
      "include_colab_link": true
    },
    "kernelspec": {
      "display_name": "Python 3",
      "name": "python3"
    },
    "language_info": {
      "name": "python"
    }
  },
  "nbformat": 4,
  "nbformat_minor": 0
}